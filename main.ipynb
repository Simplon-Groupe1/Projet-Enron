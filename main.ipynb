{
 "cells": [
  {
   "cell_type": "code",
   "execution_count": 4,
   "metadata": {
    "tags": []
   },
   "outputs": [],
   "source": [
    "from datetime import date\n",
    "from dateutil.parser import parse\n",
    "import email\n",
    "import mailbox\n",
    "import numpy as np\n",
    "import os\n",
    "import re\n",
    "import sys\n",
    "from time import asctime"
   ]
  },
  {
   "cell_type": "code",
   "execution_count": 5,
   "metadata": {},
   "outputs": [],
   "source": [
    "import pandas as pd"
   ]
  },
  {
   "cell_type": "code",
   "execution_count": 6,
   "metadata": {
    "tags": []
   },
   "outputs": [
    {
     "output_type": "stream",
     "name": "stdout",
     "text": "Creation of 1 samples each contening 10000 emails.\nThe maildir folder contains 517402 emails.\nSample number 1.\n10000\n"
    },
    {
     "output_type": "error",
     "ename": "KeyboardInterrupt",
     "evalue": "",
     "traceback": [
      "\u001b[1;31m---------------------------------------------------------------------------\u001b[0m",
      "\u001b[1;31mKeyboardInterrupt\u001b[0m                         Traceback (most recent call last)",
      "\u001b[1;32m<ipython-input-6-61dcb1a7da4b>\u001b[0m in \u001b[0;36m<module>\u001b[1;34m\u001b[0m\n\u001b[1;32m----> 1\u001b[1;33m \u001b[1;32mimport\u001b[0m \u001b[0msample_creation\u001b[0m\u001b[1;33m\u001b[0m\u001b[1;33m\u001b[0m\u001b[0m\n\u001b[0m",
      "\u001b[1;32mc:\\Users\\utilisateur\\Desktop\\Projets\\enron\\sample_creation.py\u001b[0m in \u001b[0;36m<module>\u001b[1;34m\u001b[0m\n\u001b[0;32m     49\u001b[0m \u001b[1;33m\u001b[0m\u001b[0m\n\u001b[0;32m     50\u001b[0m \u001b[1;33m\u001b[0m\u001b[0m\n\u001b[1;32m---> 51\u001b[1;33m \u001b[0mcreate_sample\u001b[0m\u001b[1;33m(\u001b[0m\u001b[1;36m10000\u001b[0m\u001b[1;33m,\u001b[0m \u001b[1;36m1\u001b[0m\u001b[1;33m)\u001b[0m\u001b[1;33m\u001b[0m\u001b[1;33m\u001b[0m\u001b[0m\n\u001b[0m",
      "\u001b[1;32mc:\\Users\\utilisateur\\Desktop\\Projets\\enron\\sample_creation.py\u001b[0m in \u001b[0;36mcreate_sample\u001b[1;34m(sample_size, number_of_sample)\u001b[0m\n\u001b[0;32m     40\u001b[0m             \u001b[1;32mfor\u001b[0m \u001b[0mf\u001b[0m \u001b[1;32min\u001b[0m \u001b[0mfiles\u001b[0m \u001b[1;33m:\u001b[0m\u001b[1;33m\u001b[0m\u001b[1;33m\u001b[0m\u001b[0m\n\u001b[0;32m     41\u001b[0m                 \u001b[1;32mif\u001b[0m \u001b[0mid_mail\u001b[0m \u001b[1;32min\u001b[0m \u001b[0mrandom_list\u001b[0m \u001b[1;33m:\u001b[0m\u001b[1;33m\u001b[0m\u001b[1;33m\u001b[0m\u001b[0m\n\u001b[1;32m---> 42\u001b[1;33m                     \u001b[0mshutil\u001b[0m\u001b[1;33m.\u001b[0m\u001b[0mcopy\u001b[0m\u001b[1;33m(\u001b[0m\u001b[0mos\u001b[0m\u001b[1;33m.\u001b[0m\u001b[0mpath\u001b[0m\u001b[1;33m.\u001b[0m\u001b[0mjoin\u001b[0m\u001b[1;33m(\u001b[0m\u001b[0mrepertory\u001b[0m\u001b[1;33m,\u001b[0m \u001b[0mf\u001b[0m\u001b[1;33m)\u001b[0m\u001b[1;33m,\u001b[0m \u001b[0msampleDir\u001b[0m\u001b[1;33m)\u001b[0m\u001b[1;33m\u001b[0m\u001b[1;33m\u001b[0m\u001b[0m\n\u001b[0m\u001b[0;32m     43\u001b[0m                     \u001b[0mos\u001b[0m\u001b[1;33m.\u001b[0m\u001b[0mrename\u001b[0m\u001b[1;33m(\u001b[0m\u001b[0mos\u001b[0m\u001b[1;33m.\u001b[0m\u001b[0mpath\u001b[0m\u001b[1;33m.\u001b[0m\u001b[0mjoin\u001b[0m\u001b[1;33m(\u001b[0m\u001b[0msampleDir\u001b[0m\u001b[1;33m,\u001b[0m \u001b[0mf\u001b[0m\u001b[1;33m)\u001b[0m\u001b[1;33m,\u001b[0m\u001b[0mos\u001b[0m\u001b[1;33m.\u001b[0m\u001b[0mpath\u001b[0m\u001b[1;33m.\u001b[0m\u001b[0mjoin\u001b[0m\u001b[1;33m(\u001b[0m\u001b[0msampleDir\u001b[0m\u001b[1;33m,\u001b[0m \u001b[0mstr\u001b[0m\u001b[1;33m(\u001b[0m\u001b[0mid_mail\u001b[0m\u001b[1;33m)\u001b[0m\u001b[1;33m)\u001b[0m\u001b[1;33m)\u001b[0m\u001b[1;33m\u001b[0m\u001b[1;33m\u001b[0m\u001b[0m\n\u001b[0;32m     44\u001b[0m                 \u001b[0mid_mail\u001b[0m \u001b[1;33m+=\u001b[0m\u001b[1;36m1\u001b[0m\u001b[1;33m\u001b[0m\u001b[1;33m\u001b[0m\u001b[0m\n",
      "\u001b[1;32m~\\anaconda3\\lib\\shutil.py\u001b[0m in \u001b[0;36mcopy\u001b[1;34m(src, dst, follow_symlinks)\u001b[0m\n\u001b[0;32m    246\u001b[0m     \u001b[1;32mif\u001b[0m \u001b[0mos\u001b[0m\u001b[1;33m.\u001b[0m\u001b[0mpath\u001b[0m\u001b[1;33m.\u001b[0m\u001b[0misdir\u001b[0m\u001b[1;33m(\u001b[0m\u001b[0mdst\u001b[0m\u001b[1;33m)\u001b[0m\u001b[1;33m:\u001b[0m\u001b[1;33m\u001b[0m\u001b[1;33m\u001b[0m\u001b[0m\n\u001b[0;32m    247\u001b[0m         \u001b[0mdst\u001b[0m \u001b[1;33m=\u001b[0m \u001b[0mos\u001b[0m\u001b[1;33m.\u001b[0m\u001b[0mpath\u001b[0m\u001b[1;33m.\u001b[0m\u001b[0mjoin\u001b[0m\u001b[1;33m(\u001b[0m\u001b[0mdst\u001b[0m\u001b[1;33m,\u001b[0m \u001b[0mos\u001b[0m\u001b[1;33m.\u001b[0m\u001b[0mpath\u001b[0m\u001b[1;33m.\u001b[0m\u001b[0mbasename\u001b[0m\u001b[1;33m(\u001b[0m\u001b[0msrc\u001b[0m\u001b[1;33m)\u001b[0m\u001b[1;33m)\u001b[0m\u001b[1;33m\u001b[0m\u001b[1;33m\u001b[0m\u001b[0m\n\u001b[1;32m--> 248\u001b[1;33m     \u001b[0mcopyfile\u001b[0m\u001b[1;33m(\u001b[0m\u001b[0msrc\u001b[0m\u001b[1;33m,\u001b[0m \u001b[0mdst\u001b[0m\u001b[1;33m,\u001b[0m \u001b[0mfollow_symlinks\u001b[0m\u001b[1;33m=\u001b[0m\u001b[0mfollow_symlinks\u001b[0m\u001b[1;33m)\u001b[0m\u001b[1;33m\u001b[0m\u001b[1;33m\u001b[0m\u001b[0m\n\u001b[0m\u001b[0;32m    249\u001b[0m     \u001b[0mcopymode\u001b[0m\u001b[1;33m(\u001b[0m\u001b[0msrc\u001b[0m\u001b[1;33m,\u001b[0m \u001b[0mdst\u001b[0m\u001b[1;33m,\u001b[0m \u001b[0mfollow_symlinks\u001b[0m\u001b[1;33m=\u001b[0m\u001b[0mfollow_symlinks\u001b[0m\u001b[1;33m)\u001b[0m\u001b[1;33m\u001b[0m\u001b[1;33m\u001b[0m\u001b[0m\n\u001b[0;32m    250\u001b[0m     \u001b[1;32mreturn\u001b[0m \u001b[0mdst\u001b[0m\u001b[1;33m\u001b[0m\u001b[1;33m\u001b[0m\u001b[0m\n",
      "\u001b[1;32m~\\anaconda3\\lib\\shutil.py\u001b[0m in \u001b[0;36mcopyfile\u001b[1;34m(src, dst, follow_symlinks)\u001b[0m\n\u001b[0;32m    118\u001b[0m         \u001b[0mos\u001b[0m\u001b[1;33m.\u001b[0m\u001b[0msymlink\u001b[0m\u001b[1;33m(\u001b[0m\u001b[0mos\u001b[0m\u001b[1;33m.\u001b[0m\u001b[0mreadlink\u001b[0m\u001b[1;33m(\u001b[0m\u001b[0msrc\u001b[0m\u001b[1;33m)\u001b[0m\u001b[1;33m,\u001b[0m \u001b[0mdst\u001b[0m\u001b[1;33m)\u001b[0m\u001b[1;33m\u001b[0m\u001b[1;33m\u001b[0m\u001b[0m\n\u001b[0;32m    119\u001b[0m     \u001b[1;32melse\u001b[0m\u001b[1;33m:\u001b[0m\u001b[1;33m\u001b[0m\u001b[1;33m\u001b[0m\u001b[0m\n\u001b[1;32m--> 120\u001b[1;33m         \u001b[1;32mwith\u001b[0m \u001b[0mopen\u001b[0m\u001b[1;33m(\u001b[0m\u001b[0msrc\u001b[0m\u001b[1;33m,\u001b[0m \u001b[1;34m'rb'\u001b[0m\u001b[1;33m)\u001b[0m \u001b[1;32mas\u001b[0m \u001b[0mfsrc\u001b[0m\u001b[1;33m:\u001b[0m\u001b[1;33m\u001b[0m\u001b[1;33m\u001b[0m\u001b[0m\n\u001b[0m\u001b[0;32m    121\u001b[0m             \u001b[1;32mwith\u001b[0m \u001b[0mopen\u001b[0m\u001b[1;33m(\u001b[0m\u001b[0mdst\u001b[0m\u001b[1;33m,\u001b[0m \u001b[1;34m'wb'\u001b[0m\u001b[1;33m)\u001b[0m \u001b[1;32mas\u001b[0m \u001b[0mfdst\u001b[0m\u001b[1;33m:\u001b[0m\u001b[1;33m\u001b[0m\u001b[1;33m\u001b[0m\u001b[0m\n\u001b[0;32m    122\u001b[0m                 \u001b[0mcopyfileobj\u001b[0m\u001b[1;33m(\u001b[0m\u001b[0mfsrc\u001b[0m\u001b[1;33m,\u001b[0m \u001b[0mfdst\u001b[0m\u001b[1;33m)\u001b[0m\u001b[1;33m\u001b[0m\u001b[1;33m\u001b[0m\u001b[0m\n",
      "\u001b[1;31mKeyboardInterrupt\u001b[0m: "
     ]
    }
   ],
   "source": [
    "import sample_creation"
   ]
  },
  {
   "cell_type": "code",
   "execution_count": null,
   "metadata": {},
   "outputs": [],
   "source": [
    "# Constants to change\n",
    "PROJECT_PATH = 'enron'\n",
    "\n",
    "DIRNAME = os.path.dirname(os.getcwd())+os.sep+PROJECT_PATH+os.sep\n",
    "DATA = DIRNAME+'maildir'+os.sep\n",
    "SAMPLE = DIRNAME+'sample'+os.sep+'1'+os.sep\n",
    "MBOX = DIRNAME+'enron.mbox'"
   ]
  },
  {
   "cell_type": "code",
   "execution_count": 4,
   "metadata": {},
   "outputs": [],
   "source": [
    "def maildir_to_mbox():\n",
    "    with open(MBOX, 'w') as mbox:   \n",
    "        for (root, dirs, file_names) in os.walk(DATA):\n",
    "            if root.split(os.sep)[-1].lower() != 'inbox':\n",
    "                continue\n",
    "\n",
    "            # Process each message in 'inbox'\n",
    "            for file_name in file_names:\n",
    "                file_path = os.path.join(root, file_name)\n",
    "                message_text = open(file_path).read()\n",
    "                msg = email.message_from_string(message_text)\n",
    "                mbox.write(msg.as_string(unixfrom=True) + \"\\n\\n\")\n",
    "\n",
    "    return mbox\n"
   ]
  },
  {
   "cell_type": "code",
   "execution_count": 5,
   "metadata": {},
   "outputs": [
    {
     "output_type": "execute_result",
     "data": {
      "text/plain": "<_io.TextIOWrapper name='c:\\\\Users\\\\utilisateur\\\\Desktop\\\\Projets\\\\enron\\\\enron_mail\\\\enron.mbox' mode='w' encoding='cp1252'>"
     },
     "metadata": {},
     "execution_count": 5
    }
   ],
   "source": [
    "maildir_to_mbox(DATA)"
   ]
  },
  {
   "cell_type": "code",
   "execution_count": 1,
   "metadata": {},
   "outputs": [],
   "source": [
    "def sample_to_mbox():\n",
    "    with open(MBOX, 'w') as mbox:   \n",
    "        for (root, dirs, file_names) in os.walk(SAMPLE):\n",
    "            # Process each message in \n",
    "            for file_name in file_names:\n",
    "                file_path = os.path.join(root, file_name)\n",
    "                message_text = open(file_path).read()\n",
    "                msg = email.message_from_string(message_text)\n",
    "                mbox.write(msg.as_string(unixfrom=True) + \"\\n\\n\")\n",
    "\n",
    "    return mbox\n"
   ]
  },
  {
   "cell_type": "code",
   "execution_count": null,
   "metadata": {},
   "outputs": [],
   "source": [
    "sample_to_mbox()"
   ]
  },
  {
   "cell_type": "code",
   "execution_count": 14,
   "metadata": {},
   "outputs": [],
   "source": [
    "def data_cleaning(df):\n",
    "    \"\"\"Clean the dataframe.\n",
    "\n",
    "    Args:\n",
    "        df (dict): dictionnary to clean\n",
    "\n",
    "    Returns:\n",
    "        dict: Enron corpus cleaned dataframe\n",
    "\n",
    "    \"\"\"\n",
    "    cols_to_keep = ['Date', 'From', 'To', 'Cc', 'Bcc', 'Subject', 'Body']\n",
    "    df = df[cols_to_keep]\n",
    "\n",
    "    df = df.drop_duplicates()\n",
    "    df = df.drop_duplicates(subset=['Date', 'From', 'To'])\n",
    "\n",
    "    return df"
   ]
  },
  {
   "cell_type": "code",
   "execution_count": 11,
   "metadata": {},
   "outputs": [],
   "source": [
    "def mbox_to_df():\n",
    "    \"\"\"Convert the mailbox to a dataframe.\n",
    "\n",
    "    Returns:\n",
    "        dict: Enron corpus sample dataframe\n",
    "\n",
    "    \"\"\"\n",
    "    mbox = mailbox.mbox(MBOX)\n",
    "\n",
    "    mbox_dict = {}\n",
    "\n",
    "    for i, msg in enumerate(mbox):\n",
    "        mbox_dict[i] = {}\n",
    "        for header in msg.keys():\n",
    "            mbox_dict[i][header] = msg[header]\n",
    "\n",
    "        mbox_dict[i]['Body'] = msg.get_payload().replace('\\n', ' ').replace('\\t', ' ').strip()\n",
    "\n",
    "    df = pd.DataFrame.from_dict(mbox_dict, orient='index')\n",
    "    df['Date'] = pd.to_datetime(df['Date'])\n",
    "    df = data_cleaning(df)\n",
    "    df.to_csv('sample_enron_mail.csv', sep='|')\n",
    "\n",
    "    return df"
   ]
  },
  {
   "cell_type": "code",
   "execution_count": 12,
   "metadata": {},
   "outputs": [
    {
     "output_type": "execute_result",
     "data": {
      "text/plain": "                                         Message-ID  \\\n0      <2461487.1075854606192.JavaMail.evans@thyme>   \n1      <9492228.1075854010173.JavaMail.evans@thyme>   \n2      <5878344.1075854010264.JavaMail.evans@thyme>   \n3      <6225365.1075854012908.JavaMail.evans@thyme>   \n4     <10925299.1075854014406.JavaMail.evans@thyme>   \n...                                             ...   \n8558                                            NaN   \n8735                                            NaN   \n9020                                            NaN   \n9054                                            NaN   \n9096                                            NaN   \n\n                                       Date                      From  \\\n0      Tue, 5 Sep 2000 05:54:00 -0700 (PDT)       eric.bass@enron.com   \n1     Mon, 22 May 2000 01:54:00 -0700 (PDT)    robert.lloyd@enron.com   \n2     Fri, 19 May 2000 08:27:00 -0700 (PDT)  david.baumbach@enron.com   \n3     Thu, 27 Apr 2000 13:59:00 -0700 (PDT)       spiwarehouse@cs.com   \n4     Fri, 14 Apr 2000 07:45:00 -0700 (PDT)    mary.comello@enron.com   \n...                                     ...                       ...   \n8558                                    NaN                       NaN   \n8735                                    NaN                       NaN   \n9020                                    NaN                       NaN   \n9054                                    NaN                       NaN   \n9096                                    NaN                       NaN   \n\n                                                     To  \\\n0                            lwbthemarine@bigplanet.com   \n1          lee.papayoti@enron.com, pat.clynes@enron.com   \n2     daren.farmer@enron.com, pat.clynes@enron.com, ...   \n3                                daren.farmer@enron.com   \n4     kristen.hanson@enron.com, daren.farmer@enron.c...   \n...                                                 ...   \n8558                                                NaN   \n8735                                                NaN   \n9020                                                NaN   \n9054                                                NaN   \n9096                                                NaN   \n\n                              Subject Mime-Version  \\\n0                          Re: Bonnie          1.0   \n1          Global Octane for May 2000          1.0   \n2                                 Re:          1.0   \n3                              e-mail          1.0   \n4     Force Majeure issues on Calpine          1.0   \n...                               ...          ...   \n8558                              NaN          NaN   \n8735                              NaN          NaN   \n9020                              NaN          NaN   \n9054                              NaN          NaN   \n9096                              NaN          NaN   \n\n                      Content-Type Content-Transfer-Encoding  \\\n0     text/plain; charset=us-ascii                      7bit   \n1     text/plain; charset=us-ascii                      7bit   \n2     text/plain; charset=us-ascii                      7bit   \n3     text/plain; charset=us-ascii                      7bit   \n4     text/plain; charset=us-ascii                      7bit   \n...                            ...                       ...   \n8558                           NaN                       NaN   \n8735                           NaN                       NaN   \n9020                           NaN                       NaN   \n9054                           NaN                       NaN   \n9096                           NaN                       NaN   \n\n                   X-From                                               X-To  \\\n0               Eric Bass  \"Larry W. Bass\" <lwbthemarine@bigplanet.com> @...   \n1          Robert E Lloyd                         Lee L Papayoti, Pat Clynes   \n2          David Baumbach         Daren J Farmer, Pat Clynes, Brenda F Herod   \n3     SPIWAREHOUSE@cs.com                                     Daren J Farmer   \n4            Mary Comello  Kristen J Hanson, Daren J Farmer, Dan J Hyvl, ...   \n...                   ...                                                ...   \n8558                  NaN                                                NaN   \n8735                  NaN                                                NaN   \n9020                  NaN                                                NaN   \n9054                  NaN                                                NaN   \n9096                  NaN                                                NaN   \n\n      ... X-bcc                                           X-Folder  X-Origin  \\\n0     ...           \\Eric_Bass_Dec2000\\Notes Folders\\All documents    Bass-E   \n1     ...        \\Darren_Farmer_Dec2000\\Notes Folders\\All docum...  Farmer-D   \n2     ...        \\Darren_Farmer_Dec2000\\Notes Folders\\All docum...  Farmer-D   \n3     ...        \\Darren_Farmer_Dec2000\\Notes Folders\\All docum...  Farmer-D   \n4     ...        \\Darren_Farmer_Dec2000\\Notes Folders\\All docum...  Farmer-D   \n...   ...   ...                                                ...       ...   \n8558  ...   NaN                                                NaN       NaN   \n8735  ...   NaN                                                NaN       NaN   \n9020  ...   NaN                                                NaN       NaN   \n9054  ...   NaN                                                NaN       NaN   \n9096  ...   NaN                                                NaN       NaN   \n\n       X-FileName                                               Body  \\\n0       ebass.nsf  just need to take care of some things and watc...   \n1     dfarmer.nsf  Attached is a M-T-D daily reading of gas that ...   \n2     dfarmer.nsf  If you have a spot for him.  I am also going t...   \n3     dfarmer.nsf       Hey Daren, Is this your e-mail address??????   \n4     dfarmer.nsf  Please plan to meet on above issues on  Monday...   \n...           ...                                                ...   \n8558          NaN  After midday Monday, for all readers: http://w...   \n8735          NaN  professional perspectives from top analysts at...   \n9020          NaN  worked as a lawyer at the Legal Aid Foundation...   \n9054          NaN  Tuck. Other MBA alumni clubs invited. Director...   \n9096          NaN  HUNTINGTON BEACH - AES Corp.'s Huntington Beac...   \n\n                                                     Cc  \\\n0                                                   NaN   \n1     daren.farmer@enron.com, rita.wynne@enron.com, ...   \n2                                                   NaN   \n3                                                   NaN   \n4                                                   NaN   \n...                                                 ...   \n8558                                                NaN   \n8735                                                NaN   \n9020                                                NaN   \n9054                                                NaN   \n9096                                                NaN   \n\n                                                    Bcc  \\\n0                                                   NaN   \n1     daren.farmer@enron.com, rita.wynne@enron.com, ...   \n2                                                   NaN   \n3                                                   NaN   \n4                                                   NaN   \n...                                                 ...   \n8558                                                NaN   \n8735                                                NaN   \n9020                                                NaN   \n9054                                                NaN   \n9096                                                NaN   \n\n                                                   http Return-Path Received  \n0                                                   NaN         NaN      NaN  \n1                                                   NaN         NaN      NaN  \n2                                                   NaN         NaN      NaN  \n3                                                   NaN         NaN      NaN  \n4                                                   NaN         NaN      NaN  \n...                                                 ...         ...      ...  \n8558  //www.businessweek.com/premium/00_52/b3713132.htm         NaN      NaN  \n8735                                                NaN         NaN      NaN  \n9020                                                NaN         NaN      NaN  \n9054                                                NaN         NaN      NaN  \n9096                                                NaN         NaN      NaN  \n\n[9282 rows x 21 columns]",
      "text/html": "<div>\n<style scoped>\n    .dataframe tbody tr th:only-of-type {\n        vertical-align: middle;\n    }\n\n    .dataframe tbody tr th {\n        vertical-align: top;\n    }\n\n    .dataframe thead th {\n        text-align: right;\n    }\n</style>\n<table border=\"1\" class=\"dataframe\">\n  <thead>\n    <tr style=\"text-align: right;\">\n      <th></th>\n      <th>Message-ID</th>\n      <th>Date</th>\n      <th>From</th>\n      <th>To</th>\n      <th>Subject</th>\n      <th>Mime-Version</th>\n      <th>Content-Type</th>\n      <th>Content-Transfer-Encoding</th>\n      <th>X-From</th>\n      <th>X-To</th>\n      <th>...</th>\n      <th>X-bcc</th>\n      <th>X-Folder</th>\n      <th>X-Origin</th>\n      <th>X-FileName</th>\n      <th>Body</th>\n      <th>Cc</th>\n      <th>Bcc</th>\n      <th>http</th>\n      <th>Return-Path</th>\n      <th>Received</th>\n    </tr>\n  </thead>\n  <tbody>\n    <tr>\n      <th>0</th>\n      <td>&lt;2461487.1075854606192.JavaMail.evans@thyme&gt;</td>\n      <td>Tue, 5 Sep 2000 05:54:00 -0700 (PDT)</td>\n      <td>eric.bass@enron.com</td>\n      <td>lwbthemarine@bigplanet.com</td>\n      <td>Re: Bonnie</td>\n      <td>1.0</td>\n      <td>text/plain; charset=us-ascii</td>\n      <td>7bit</td>\n      <td>Eric Bass</td>\n      <td>\"Larry W. Bass\" &lt;lwbthemarine@bigplanet.com&gt; @...</td>\n      <td>...</td>\n      <td></td>\n      <td>\\Eric_Bass_Dec2000\\Notes Folders\\All documents</td>\n      <td>Bass-E</td>\n      <td>ebass.nsf</td>\n      <td>just need to take care of some things and watc...</td>\n      <td>NaN</td>\n      <td>NaN</td>\n      <td>NaN</td>\n      <td>NaN</td>\n      <td>NaN</td>\n    </tr>\n    <tr>\n      <th>1</th>\n      <td>&lt;9492228.1075854010173.JavaMail.evans@thyme&gt;</td>\n      <td>Mon, 22 May 2000 01:54:00 -0700 (PDT)</td>\n      <td>robert.lloyd@enron.com</td>\n      <td>lee.papayoti@enron.com, pat.clynes@enron.com</td>\n      <td>Global Octane for May 2000</td>\n      <td>1.0</td>\n      <td>text/plain; charset=us-ascii</td>\n      <td>7bit</td>\n      <td>Robert E Lloyd</td>\n      <td>Lee L Papayoti, Pat Clynes</td>\n      <td>...</td>\n      <td></td>\n      <td>\\Darren_Farmer_Dec2000\\Notes Folders\\All docum...</td>\n      <td>Farmer-D</td>\n      <td>dfarmer.nsf</td>\n      <td>Attached is a M-T-D daily reading of gas that ...</td>\n      <td>daren.farmer@enron.com, rita.wynne@enron.com, ...</td>\n      <td>daren.farmer@enron.com, rita.wynne@enron.com, ...</td>\n      <td>NaN</td>\n      <td>NaN</td>\n      <td>NaN</td>\n    </tr>\n    <tr>\n      <th>2</th>\n      <td>&lt;5878344.1075854010264.JavaMail.evans@thyme&gt;</td>\n      <td>Fri, 19 May 2000 08:27:00 -0700 (PDT)</td>\n      <td>david.baumbach@enron.com</td>\n      <td>daren.farmer@enron.com, pat.clynes@enron.com, ...</td>\n      <td>Re:</td>\n      <td>1.0</td>\n      <td>text/plain; charset=us-ascii</td>\n      <td>7bit</td>\n      <td>David Baumbach</td>\n      <td>Daren J Farmer, Pat Clynes, Brenda F Herod</td>\n      <td>...</td>\n      <td></td>\n      <td>\\Darren_Farmer_Dec2000\\Notes Folders\\All docum...</td>\n      <td>Farmer-D</td>\n      <td>dfarmer.nsf</td>\n      <td>If you have a spot for him.  I am also going t...</td>\n      <td>NaN</td>\n      <td>NaN</td>\n      <td>NaN</td>\n      <td>NaN</td>\n      <td>NaN</td>\n    </tr>\n    <tr>\n      <th>3</th>\n      <td>&lt;6225365.1075854012908.JavaMail.evans@thyme&gt;</td>\n      <td>Thu, 27 Apr 2000 13:59:00 -0700 (PDT)</td>\n      <td>spiwarehouse@cs.com</td>\n      <td>daren.farmer@enron.com</td>\n      <td>e-mail</td>\n      <td>1.0</td>\n      <td>text/plain; charset=us-ascii</td>\n      <td>7bit</td>\n      <td>SPIWAREHOUSE@cs.com</td>\n      <td>Daren J Farmer</td>\n      <td>...</td>\n      <td></td>\n      <td>\\Darren_Farmer_Dec2000\\Notes Folders\\All docum...</td>\n      <td>Farmer-D</td>\n      <td>dfarmer.nsf</td>\n      <td>Hey Daren, Is this your e-mail address??????</td>\n      <td>NaN</td>\n      <td>NaN</td>\n      <td>NaN</td>\n      <td>NaN</td>\n      <td>NaN</td>\n    </tr>\n    <tr>\n      <th>4</th>\n      <td>&lt;10925299.1075854014406.JavaMail.evans@thyme&gt;</td>\n      <td>Fri, 14 Apr 2000 07:45:00 -0700 (PDT)</td>\n      <td>mary.comello@enron.com</td>\n      <td>kristen.hanson@enron.com, daren.farmer@enron.c...</td>\n      <td>Force Majeure issues on Calpine</td>\n      <td>1.0</td>\n      <td>text/plain; charset=us-ascii</td>\n      <td>7bit</td>\n      <td>Mary Comello</td>\n      <td>Kristen J Hanson, Daren J Farmer, Dan J Hyvl, ...</td>\n      <td>...</td>\n      <td></td>\n      <td>\\Darren_Farmer_Dec2000\\Notes Folders\\All docum...</td>\n      <td>Farmer-D</td>\n      <td>dfarmer.nsf</td>\n      <td>Please plan to meet on above issues on  Monday...</td>\n      <td>NaN</td>\n      <td>NaN</td>\n      <td>NaN</td>\n      <td>NaN</td>\n      <td>NaN</td>\n    </tr>\n    <tr>\n      <th>...</th>\n      <td>...</td>\n      <td>...</td>\n      <td>...</td>\n      <td>...</td>\n      <td>...</td>\n      <td>...</td>\n      <td>...</td>\n      <td>...</td>\n      <td>...</td>\n      <td>...</td>\n      <td>...</td>\n      <td>...</td>\n      <td>...</td>\n      <td>...</td>\n      <td>...</td>\n      <td>...</td>\n      <td>...</td>\n      <td>...</td>\n      <td>...</td>\n      <td>...</td>\n      <td>...</td>\n    </tr>\n    <tr>\n      <th>8558</th>\n      <td>NaN</td>\n      <td>NaN</td>\n      <td>NaN</td>\n      <td>NaN</td>\n      <td>NaN</td>\n      <td>NaN</td>\n      <td>NaN</td>\n      <td>NaN</td>\n      <td>NaN</td>\n      <td>NaN</td>\n      <td>...</td>\n      <td>NaN</td>\n      <td>NaN</td>\n      <td>NaN</td>\n      <td>NaN</td>\n      <td>After midday Monday, for all readers: http://w...</td>\n      <td>NaN</td>\n      <td>NaN</td>\n      <td>//www.businessweek.com/premium/00_52/b3713132.htm</td>\n      <td>NaN</td>\n      <td>NaN</td>\n    </tr>\n    <tr>\n      <th>8735</th>\n      <td>NaN</td>\n      <td>NaN</td>\n      <td>NaN</td>\n      <td>NaN</td>\n      <td>NaN</td>\n      <td>NaN</td>\n      <td>NaN</td>\n      <td>NaN</td>\n      <td>NaN</td>\n      <td>NaN</td>\n      <td>...</td>\n      <td>NaN</td>\n      <td>NaN</td>\n      <td>NaN</td>\n      <td>NaN</td>\n      <td>professional perspectives from top analysts at...</td>\n      <td>NaN</td>\n      <td>NaN</td>\n      <td>NaN</td>\n      <td>NaN</td>\n      <td>NaN</td>\n    </tr>\n    <tr>\n      <th>9020</th>\n      <td>NaN</td>\n      <td>NaN</td>\n      <td>NaN</td>\n      <td>NaN</td>\n      <td>NaN</td>\n      <td>NaN</td>\n      <td>NaN</td>\n      <td>NaN</td>\n      <td>NaN</td>\n      <td>NaN</td>\n      <td>...</td>\n      <td>NaN</td>\n      <td>NaN</td>\n      <td>NaN</td>\n      <td>NaN</td>\n      <td>worked as a lawyer at the Legal Aid Foundation...</td>\n      <td>NaN</td>\n      <td>NaN</td>\n      <td>NaN</td>\n      <td>NaN</td>\n      <td>NaN</td>\n    </tr>\n    <tr>\n      <th>9054</th>\n      <td>NaN</td>\n      <td>NaN</td>\n      <td>NaN</td>\n      <td>NaN</td>\n      <td>NaN</td>\n      <td>NaN</td>\n      <td>NaN</td>\n      <td>NaN</td>\n      <td>NaN</td>\n      <td>NaN</td>\n      <td>...</td>\n      <td>NaN</td>\n      <td>NaN</td>\n      <td>NaN</td>\n      <td>NaN</td>\n      <td>Tuck. Other MBA alumni clubs invited. Director...</td>\n      <td>NaN</td>\n      <td>NaN</td>\n      <td>NaN</td>\n      <td>NaN</td>\n      <td>NaN</td>\n    </tr>\n    <tr>\n      <th>9096</th>\n      <td>NaN</td>\n      <td>NaN</td>\n      <td>NaN</td>\n      <td>NaN</td>\n      <td>NaN</td>\n      <td>NaN</td>\n      <td>NaN</td>\n      <td>NaN</td>\n      <td>NaN</td>\n      <td>NaN</td>\n      <td>...</td>\n      <td>NaN</td>\n      <td>NaN</td>\n      <td>NaN</td>\n      <td>NaN</td>\n      <td>HUNTINGTON BEACH - AES Corp.'s Huntington Beac...</td>\n      <td>NaN</td>\n      <td>NaN</td>\n      <td>NaN</td>\n      <td>NaN</td>\n      <td>NaN</td>\n    </tr>\n  </tbody>\n</table>\n<p>9282 rows × 21 columns</p>\n</div>"
     },
     "metadata": {},
     "execution_count": 12
    }
   ],
   "source": [
    "mbox_to_df()"
   ]
  },
  {
   "cell_type": "code",
   "execution_count": 6,
   "metadata": {},
   "outputs": [],
   "source": [
    "sample_df = pd.read_csv('enron_mail/sample_enron_mail.csv', sep='|')\n",
    "df = data_cleaning(df)"
   ]
  }
 ],
 "metadata": {
  "kernelspec": {
   "display_name": "Python 3",
   "language": "python",
   "name": "python3"
  },
  "language_info": {
   "codemirror_mode": {
    "name": "ipython",
    "version": 3
   },
   "file_extension": ".py",
   "mimetype": "text/x-python",
   "name": "python",
   "nbconvert_exporter": "python",
   "pygments_lexer": "ipython3",
   "version": "3.7.6-final"
  }
 },
 "nbformat": 4,
 "nbformat_minor": 4
}