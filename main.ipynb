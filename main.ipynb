{
 "cells": [
  {
   "cell_type": "code",
   "execution_count": 9,
   "metadata": {
    "tags": []
   },
   "outputs": [],
   "source": [
    "from datetime import date\n",
    "from dateutil.parser import parse\n",
    "import email\n",
    "import mailbox\n",
    "import numpy as np\n",
    "import os\n",
    "import re\n",
    "import sys\n",
    "from time import asctime"
   ]
  },
  {
   "cell_type": "code",
   "execution_count": 4,
   "metadata": {},
   "outputs": [],
   "source": [
    "import pandas as pd"
   ]
  },
  {
   "cell_type": "code",
   "execution_count": 28,
   "metadata": {},
   "outputs": [],
   "source": [
    "DIRNAME = os.path.dirname(os.getcwd())+os.sep+'enron'+os.sep\n",
    "DATA = DIRNAME+'enron_mail'+os.sep\n",
    "MBOX = DATA+'enron.mbox'"
   ]
  },
  {
   "cell_type": "code",
   "execution_count": 4,
   "metadata": {},
   "outputs": [],
   "source": [
    "def maildir_to_mailbox(MAILDIR):\n",
    "    with open(MBOX, 'w') as mbox:   \n",
    "        for (root, dirs, file_names) in os.walk(MAILDIR):\n",
    "            if root.split(os.sep)[-1].lower() != 'inbox':\n",
    "                continue\n",
    "\n",
    "            # Process each message in 'inbox'\n",
    "            for file_name in file_names:\n",
    "                file_path = os.path.join(root, file_name)\n",
    "                message_text = open(file_path).read()\n",
    "\n",
    "                # Compute fields for the From_ line in a traditional mbox message\n",
    "\n",
    "                #_from = re.search(r\"From: ([^\\r]+)\", message_text).groups()[0]\n",
    "                #_date = re.search(r\"Date: ([^\\r]+)\", message_text).groups()[0]\n",
    "\n",
    "                # Convert _date to the asctime representation for the From_ line\n",
    "\n",
    "                #_date = asctime(parse(_date).timetuple())\n",
    "\n",
    "                msg = email.message_from_string(message_text)\n",
    "                #msg.set_unixfrom('From %s %s' % (_from, _date))\n",
    "\n",
    "                mbox.write(msg.as_string(unixfrom=True) + \"\\n\\n\")\n",
    "\n",
    "    return mbox\n"
   ]
  },
  {
   "cell_type": "code",
   "execution_count": 5,
   "metadata": {},
   "outputs": [
    {
     "output_type": "execute_result",
     "data": {
      "text/plain": "<_io.TextIOWrapper name='c:\\\\Users\\\\utilisateur\\\\Desktop\\\\Projets\\\\enron\\\\enron_mail\\\\enron.mbox' mode='w' encoding='cp1252'>"
     },
     "metadata": {},
     "execution_count": 5
    }
   ],
   "source": [
    "maildir_to_mailbox(DIRNAME+'enron'+os.sep+'enron_mail'+os.sep+'maildir'+os.sep)"
   ]
  },
  {
   "cell_type": "code",
   "execution_count": 29,
   "metadata": {},
   "outputs": [],
   "source": [
    "def mbox_to_df():\n",
    "    \"\"\"Convert the mailbox to a dataframe.\n",
    "\n",
    "    Returns:\n",
    "        dict: Enron corpus sample dataframe\n",
    "\n",
    "    \"\"\"\n",
    "    mbox = mailbox.mbox(MBOX)\n",
    "\n",
    "    mbox_dict = {}\n",
    "\n",
    "    for i, msg in enumerate(mbox):\n",
    "        mbox_dict[i] = {}\n",
    "        for header in msg.keys():\n",
    "            mbox_dict[i][header] = msg[header]\n",
    "\n",
    "        mbox_dict[i]['Body'] = msg.get_payload().replace('\\n', ' ').replace('\\t', ' ').strip()\n",
    "\n",
    "    df = pd.DataFrame.from_dict(mbox_dict, orient='index')\n",
    "    # TODO: add field before bankrupt(df):\n",
    "    # bankrupt = date(2001, 12, 2) bool\n",
    "    # df.index = df['Date'].apply(pd.to_datetime)\n",
    "\n",
    "    # df = data_cleaning(df)\n",
    "    # df.to_csv(DATA+'enron_mail.csv', sep='|')\n",
    "    # sample_df = df.sample(200)\n",
    "    df.to_csv(DATA+'sample_enron_mail.csv', sep='|')\n",
    "\n",
    "    return df"
   ]
  },
  {
   "cell_type": "code",
   "execution_count": null,
   "metadata": {},
   "outputs": [],
   "source": [
    "def data_cleaning(df):\n",
    "    \"\"\"Clean the dataframe.\n",
    "\n",
    "    Args:\n",
    "        df (dict): dictionnary to clean\n",
    "\n",
    "    Returns:\n",
    "        dict: Enron corpus cleaned dataframe\n",
    "\n",
    "    \"\"\"\n",
    "    cols_to_keep = ['Date', 'From', 'To', 'Cc', 'Bcc', 'Subject', 'Body']\n",
    "    df = df[cols_to_keep]\n",
    "\n",
    "    df = df.drop_duplicates()\n",
    "    df = df.drop_duplicates(subset=['Date', 'From', 'To'])\n",
    "\n",
    "    return df"
   ]
  },
  {
   "cell_type": "code",
   "execution_count": 6,
   "metadata": {},
   "outputs": [],
   "source": [
    "sample_df = pd.read_csv('enron_mail/sample_enron_mail.csv', sep='|')\n",
    "df = data_cleaning(df)"
   ]
  }
 ],
 "metadata": {
  "kernelspec": {
   "display_name": "Python 3",
   "language": "python",
   "name": "python3"
  },
  "language_info": {
   "codemirror_mode": {
    "name": "ipython",
    "version": 3
   },
   "file_extension": ".py",
   "mimetype": "text/x-python",
   "name": "python",
   "nbconvert_exporter": "python",
   "pygments_lexer": "ipython3",
   "version": "3.7.6"
  }
 },
 "nbformat": 4,
 "nbformat_minor": 4
}