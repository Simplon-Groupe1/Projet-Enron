{
 "cells": [
  {
   "cell_type": "code",
   "execution_count": 6,
   "metadata": {
    "tags": []
   },
   "outputs": [],
   "source": [
    "import email\n",
    "import os\n",
    "import re\n",
    "import sys\n",
    "from time import asctime"
   ]
  },
  {
   "cell_type": "code",
   "execution_count": 7,
   "metadata": {},
   "outputs": [],
   "source": [
    "from dateutil.parser import parse"
   ]
  },
  {
   "cell_type": "code",
   "execution_count": 8,
   "metadata": {},
   "outputs": [],
   "source": [
    "DIRNAME = os.path.dirname(os.getcwd())+os.sep\n"
   ]
  },
  {
   "cell_type": "code",
   "execution_count": 9,
   "metadata": {},
   "outputs": [],
   "source": [
    "def maildir_to_mailbox(MAILDIR):\n",
    "    # Where to write the converted mbox\n",
    "    MBOX = DIRNAME+'enron'+os.sep+'enron_mail'+os.sep+'enron.mbox'  \n",
    "\n",
    "    with open(MBOX, 'w') as mbox:   \n",
    "        for (root, dirs, file_names) in os.walk(MAILDIR):\n",
    "            if root.split(os.sep)[-1].lower() != 'inbox':\n",
    "                continue\n",
    "\n",
    "            # Process each message in 'inbox'\n",
    "\n",
    "            for file_name in file_names:\n",
    "                file_path = os.path.join(root, file_name)\n",
    "                message_text = open(file_path).read()\n",
    "\n",
    "                # Compute fields for the From_ line in a traditional mbox message\n",
    "\n",
    "                #_from = re.search(r\"From: ([^\\r]+)\", message_text).groups()[0]\n",
    "                #_date = re.search(r\"Date: ([^\\r]+)\", message_text).groups()[0]\n",
    "\n",
    "                # Convert _date to the asctime representation for the From_ line\n",
    "\n",
    "                #_date = asctime(parse(_date).timetuple())\n",
    "\n",
    "                msg = email.message_from_string(message_text)\n",
    "                #msg.set_unixfrom('From %s %s' % (_from, _date))\n",
    "\n",
    "                mbox.write(msg.as_string(unixfrom=True) + \"\\n\\n\")\n",
    "\n",
    "    return mbox\n"
   ]
  },
  {
   "cell_type": "code",
   "execution_count": null,
   "metadata": {},
   "outputs": [],
   "source": [
    "maildir_to_mailbox(DIRNAME+'enron'+os.sep+'enron_mail'+os.sep+'maildir'+os.sep)"
   ]
  },
  {
   "cell_type": "code",
   "execution_count": null,
   "metadata": {},
   "outputs": [],
   "source": []
  }
 ],
 "metadata": {
  "kernelspec": {
   "display_name": "Python 3",
   "language": "python",
   "name": "python3"
  },
  "language_info": {
   "codemirror_mode": {
    "name": "ipython",
    "version": 3
   },
   "file_extension": ".py",
   "mimetype": "text/x-python",
   "name": "python",
   "nbconvert_exporter": "python",
   "pygments_lexer": "ipython3",
   "version": "3.7.6"
  }
 },
 "nbformat": 4,
 "nbformat_minor": 4
}