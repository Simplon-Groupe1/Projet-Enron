{
 "cells": [
  {
   "cell_type": "code",
   "execution_count": 1,
   "metadata": {
    "tags": []
   },
   "outputs": [],
   "source": [
    "from dateutil.parser import parse\n",
    "import email\n",
    "import mailbox\n",
    "import os\n",
    "import re\n",
    "import sys\n",
    "from time import asctime"
   ]
  },
  {
   "cell_type": "code",
   "execution_count": 2,
   "metadata": {},
   "outputs": [],
   "source": [
    "import pandas as pd"
   ]
  },
  {
   "cell_type": "code",
   "execution_count": 3,
   "metadata": {},
   "outputs": [],
   "source": [
    "DIRNAME = os.path.dirname(os.getcwd())+os.sep\n",
    "# Where to write the converted mbox\n",
    "MBOX = DIRNAME+'enron'+os.sep+'enron_mail'+os.sep+'enron.mbox'"
   ]
  },
  {
   "cell_type": "code",
   "execution_count": 4,
   "metadata": {},
   "outputs": [],
   "source": [
    "def maildir_to_mailbox(MAILDIR):\n",
    "    with open(MBOX, 'w') as mbox:   \n",
    "        for (root, dirs, file_names) in os.walk(MAILDIR):\n",
    "            if root.split(os.sep)[-1].lower() != 'inbox':\n",
    "                continue\n",
    "\n",
    "            # Process each message in 'inbox'\n",
    "            for file_name in file_names:\n",
    "                file_path = os.path.join(root, file_name)\n",
    "                message_text = open(file_path).read()\n",
    "\n",
    "                # Compute fields for the From_ line in a traditional mbox message\n",
    "\n",
    "                #_from = re.search(r\"From: ([^\\r]+)\", message_text).groups()[0]\n",
    "                #_date = re.search(r\"Date: ([^\\r]+)\", message_text).groups()[0]\n",
    "\n",
    "                # Convert _date to the asctime representation for the From_ line\n",
    "\n",
    "                #_date = asctime(parse(_date).timetuple())\n",
    "\n",
    "                msg = email.message_from_string(message_text)\n",
    "                #msg.set_unixfrom('From %s %s' % (_from, _date))\n",
    "\n",
    "                mbox.write(msg.as_string(unixfrom=True) + \"\\n\\n\")\n",
    "\n",
    "    return mbox\n"
   ]
  },
  {
   "cell_type": "code",
   "execution_count": 5,
   "metadata": {},
   "outputs": [
    {
     "output_type": "execute_result",
     "data": {
      "text/plain": "<_io.TextIOWrapper name='c:\\\\Users\\\\utilisateur\\\\Desktop\\\\Projets\\\\enron\\\\enron_mail\\\\enron.mbox' mode='w' encoding='cp1252'>"
     },
     "metadata": {},
     "execution_count": 5
    }
   ],
   "source": [
    "maildir_to_mailbox(DIRNAME+'enron'+os.sep+'enron_mail'+os.sep+'maildir'+os.sep)"
   ]
  },
  {
   "cell_type": "code",
   "execution_count": 6,
   "metadata": {},
   "outputs": [],
   "source": [
    "def mbox_to_df():\n",
    "    \"\"\"Convert the mailbox to a dataframe.\n",
    "\n",
    "    Returns:\n",
    "        dict: Enron corpus dataframe\n",
    "\n",
    "    \"\"\"\n",
    "    mbox = mailbox.mbox(MBOX)\n",
    "\n",
    "    mbox_dict = {}\n",
    "    for i, msg in enumerate(mbox):\n",
    "        mbox_dict[i] = {}\n",
    "        for header in msg.keys():\n",
    "            mbox_dict[i][header] = msg[header]\n",
    "        mbox_dict[i]['Body'] = msg.get_payload().replace('\\n', ' ').replace('\\t', ' ').strip()\n",
    "\n",
    "    df = pd.DataFrame.from_dict(mbox_dict, orient='index')\n",
    "    df.index = df['Date'].apply(pd.to_datetime)\n",
    "\n",
    "    return df"
   ]
  },
  {
   "cell_type": "code",
   "execution_count": 7,
   "metadata": {},
   "outputs": [
    {
     "output_type": "execute_result",
     "data": {
      "text/plain": "                                                              Message-ID  \\\nDate                                                                       \n2001-12-30 22:49:42-08:00  <14955894.1075855377681.JavaMail.evans@thyme>   \n2001-12-30 23:42:30-08:00   <7462038.1075855377703.JavaMail.evans@thyme>   \n2001-12-31 02:24:51-08:00  <21572157.1075855377726.JavaMail.evans@thyme>   \n2001-12-31 10:53:43-08:00   <7618763.1075855377753.JavaMail.evans@thyme>   \n2001-12-31 17:18:31-08:00   <4845954.1075855377776.JavaMail.evans@thyme>   \n...                                                                  ...   \nNaT                                                                  NaN   \nNaT                                                                  NaN   \nNaT                                                                  NaN   \nNaT                                                                  NaN   \nNaT                                                                  NaN   \n\n                                                            Date  \\\nDate                                                               \n2001-12-30 22:49:42-08:00  Sun, 30 Dec 2001 22:49:42 -0800 (PST)   \n2001-12-30 23:42:30-08:00  Sun, 30 Dec 2001 23:42:30 -0800 (PST)   \n2001-12-31 02:24:51-08:00  Mon, 31 Dec 2001 02:24:51 -0800 (PST)   \n2001-12-31 10:53:43-08:00  Mon, 31 Dec 2001 10:53:43 -0800 (PST)   \n2001-12-31 17:18:31-08:00  Mon, 31 Dec 2001 17:18:31 -0800 (PST)   \n...                                                          ...   \nNaT                                                          NaN   \nNaT                                                          NaN   \nNaT                                                          NaN   \nNaT                                                          NaN   \nNaT                                                          NaN   \n\n                                                              From  \\\nDate                                                                 \n2001-12-30 22:49:42-08:00  anchordesk_daily@anchordesk.zdlists.com   \n2001-12-30 23:42:30-08:00      subscriptions@intelligencepress.com   \n2001-12-31 02:24:51-08:00           prizemachine@feedback.iwon.com   \n2001-12-31 10:53:43-08:00                 louise.kitchen@enron.com   \n2001-12-31 17:18:31-08:00               arsystem@mailman.enron.com   \n...                                                            ...   \nNaT                                                            NaN   \nNaT                                                            NaN   \nNaT                                                            NaN   \nNaT                                                            NaN   \nNaT                                                            NaN   \n\n                                                                          To  \\\nDate                                                                           \n2001-12-30 22:49:42-08:00                                   pallen@enron.com   \n2001-12-30 23:42:30-08:00                                   pallen@enron.com   \n2001-12-31 02:24:51-08:00                                   pallen@enron.com   \n2001-12-31 10:53:43-08:00  wes.colwell@enron.com, georgeanne.hodges@enron...   \n2001-12-31 17:18:31-08:00                                 k..allen@enron.com   \n...                                                                      ...   \nNaT                                                                      NaN   \nNaT                                                                      NaN   \nNaT                                                                      NaN   \nNaT                                                                      NaN   \nNaT                                                                      NaN   \n\n                                                                     Subject  \\\nDate                                                                           \n2001-12-30 22:49:42-08:00  ANCHORDESK: Hope ahead: What I learned from 20...   \n2001-12-30 23:42:30-08:00      NGI Publications - Monday, December 31st 2001   \n2001-12-31 02:24:51-08:00         Click. Spin. Chances to Win up to $10,000!   \n2001-12-31 10:53:43-08:00                                              NETCO   \n2001-12-31 17:18:31-08:00  Your Approval is Overdue: Access Request for m...   \n...                                                                      ...   \nNaT                                                                      NaN   \nNaT                                                                      NaN   \nNaT                                                                      NaN   \nNaT                                                                      NaN   \nNaT                                                                      NaN   \n\n                          Mime-Version                        Content-Type  \\\nDate                                                                         \n2001-12-30 22:49:42-08:00          1.0  text/plain; charset=ANSI_X3.4-1968   \n2001-12-30 23:42:30-08:00          1.0        text/plain; charset=us-ascii   \n2001-12-31 02:24:51-08:00          1.0        text/plain; charset=us-ascii   \n2001-12-31 10:53:43-08:00          1.0        text/plain; charset=us-ascii   \n2001-12-31 17:18:31-08:00          1.0        text/plain; charset=us-ascii   \n...                                ...                                 ...   \nNaT                                NaN                                 NaN   \nNaT                                NaN                                 NaN   \nNaT                                NaN                                 NaN   \nNaT                                NaN                                 NaN   \nNaT                                NaN                                 NaN   \n\n                          Content-Transfer-Encoding  \\\nDate                                                  \n2001-12-30 22:49:42-08:00                      7bit   \n2001-12-30 23:42:30-08:00                      7bit   \n2001-12-31 02:24:51-08:00                      7bit   \n2001-12-31 10:53:43-08:00                      7bit   \n2001-12-31 17:18:31-08:00                      7bit   \n...                                             ...   \nNaT                                             NaN   \nNaT                                             NaN   \nNaT                                             NaN   \nNaT                                             NaN   \nNaT                                             NaN   \n\n                                                                      X-From  \\\nDate                                                                           \n2001-12-30 22:49:42-08:00  \"AnchorDesk\" <AnchorDesk_Daily@anchordesk.zdli...   \n2001-12-30 23:42:30-08:00          subscriptions@intelligencepress.com@ENRON   \n2001-12-31 02:24:51-08:00  Prize Machine<PrizeMachine@feedback.iwon.com>@...   \n2001-12-31 10:53:43-08:00  Kitchen, Louise </O=ENRON/OU=NA/CN=RECIPIENTS/...   \n2001-12-31 17:18:31-08:00        ARSystem <ARSystem@mailman.enron.com>@ENRON   \n...                                                                      ...   \nNaT                                                                      NaN   \nNaT                                                                      NaN   \nNaT                                                                      NaN   \nNaT                                                                      NaN   \nNaT                                                                      NaN   \n\n                                                                        X-To  \\\nDate                                                                           \n2001-12-30 22:49:42-08:00                                   pallen@ENRON.COM   \n2001-12-30 23:42:30-08:00                                   pallen@enron.com   \n2001-12-31 02:24:51-08:00                                   pallen@enron.com   \n2001-12-31 10:53:43-08:00  Colwell, Wes </O=ENRON/OU=NA/CN=RECIPIENTS/CN=...   \n2001-12-31 17:18:31-08:00  Allen, Phillip K. </O=ENRON/OU=NA/CN=RECIPIENT...   \n...                                                                      ...   \nNaT                                                                      NaN   \nNaT                                                                      NaN   \nNaT                                                                      NaN   \nNaT                                                                      NaN   \nNaT                                                                      NaN   \n\n                           ...                   X-FileName  \\\nDate                       ...                                \n2001-12-30 22:49:42-08:00  ...  pallen (Non-Privileged).pst   \n2001-12-30 23:42:30-08:00  ...  pallen (Non-Privileged).pst   \n2001-12-31 02:24:51-08:00  ...  pallen (Non-Privileged).pst   \n2001-12-31 10:53:43-08:00  ...  pallen (Non-Privileged).pst   \n2001-12-31 17:18:31-08:00  ...  pallen (Non-Privileged).pst   \n...                        ...                          ...   \nNaT                        ...                          NaN   \nNaT                        ...                          NaN   \nNaT                        ...                          NaN   \nNaT                        ...                          NaN   \nNaT                        ...                          NaN   \n\n                                                                        Body  \\\nDate                                                                           \n2001-12-30 22:49:42-08:00  _____________________DAVID COURSEY____________...   \n2001-12-30 23:42:30-08:00  Dear phillip,   This e-mail is automated notif...   \n2001-12-31 02:24:51-08:00  [IMAGE] [IMAGE]   [IMAGE]   [IMAGE] $ 2,500 [I...   \n2001-12-31 10:53:43-08:00  The New Year has arrived and we really to fina...   \n2001-12-31 17:18:31-08:00  This request has been pending your approval fo...   \n...                                                                      ...   \nNaT                        <http://www.marketwatch.com/news/story.asp?sit...   \nNaT                                                                            \nNaT                        STACK MANAGER User ID: azipper Password: q#9M#...   \nNaT                                                                            \nNaT                        STACK MANAGER User ID: JZUFFER Password: q#9M#...   \n\n                                                Cc                      Bcc  \\\nDate                                                                          \n2001-12-30 22:49:42-08:00                      NaN                      NaN   \n2001-12-30 23:42:30-08:00                      NaN                      NaN   \n2001-12-31 02:24:51-08:00                      NaN                      NaN   \n2001-12-31 10:53:43-08:00  john.lavorato@enron.com  john.lavorato@enron.com   \n2001-12-31 17:18:31-08:00                      NaN                      NaN   \n...                                            ...                      ...   \nNaT                                            NaN                      NaN   \nNaT                                            NaN                      NaN   \nNaT                                            NaN                      NaN   \nNaT                                            NaN                      NaN   \nNaT                                            NaN                      NaN   \n\n                                                                        http  \\\nDate                                                                           \n2001-12-30 22:49:42-08:00                                                NaN   \n2001-12-30 23:42:30-08:00                                                NaN   \n2001-12-31 02:24:51-08:00                                                NaN   \n2001-12-31 10:53:43-08:00                                                NaN   \n2001-12-31 17:18:31-08:00                                                NaN   \n...                                                                      ...   \nNaT                                                                      NaN   \nNaT                        //remoteservices.netco.enron.com/ica/ubswenerg...   \nNaT                                                                      NaN   \nNaT                        //remoteservices.netco.enron.com/ica/ubswenerg...   \nNaT                                                                      NaN   \n\n                            Re  dal \"Notice X-Mailer <http  \nDate                                                        \n2001-12-30 22:49:42-08:00  NaN  NaN     NaN      NaN   NaN  \n2001-12-30 23:42:30-08:00  NaN  NaN     NaN      NaN   NaN  \n2001-12-31 02:24:51-08:00  NaN  NaN     NaN      NaN   NaN  \n2001-12-31 10:53:43-08:00  NaN  NaN     NaN      NaN   NaN  \n2001-12-31 17:18:31-08:00  NaN  NaN     NaN      NaN   NaN  \n...                        ...  ...     ...      ...   ...  \nNaT                        NaN  NaN     NaN      NaN   NaN  \nNaT                        NaN  NaN     NaN      NaN   NaN  \nNaT                        NaN  NaN     NaN      NaN   NaN  \nNaT                        NaN  NaN     NaN      NaN   NaN  \nNaT                        NaN  NaN     NaN      NaN   NaN  \n\n[42191 rows x 24 columns]",
      "text/html": "<div>\n<style scoped>\n    .dataframe tbody tr th:only-of-type {\n        vertical-align: middle;\n    }\n\n    .dataframe tbody tr th {\n        vertical-align: top;\n    }\n\n    .dataframe thead th {\n        text-align: right;\n    }\n</style>\n<table border=\"1\" class=\"dataframe\">\n  <thead>\n    <tr style=\"text-align: right;\">\n      <th></th>\n      <th>Message-ID</th>\n      <th>Date</th>\n      <th>From</th>\n      <th>To</th>\n      <th>Subject</th>\n      <th>Mime-Version</th>\n      <th>Content-Type</th>\n      <th>Content-Transfer-Encoding</th>\n      <th>X-From</th>\n      <th>X-To</th>\n      <th>...</th>\n      <th>X-FileName</th>\n      <th>Body</th>\n      <th>Cc</th>\n      <th>Bcc</th>\n      <th>http</th>\n      <th>Re</th>\n      <th>dal</th>\n      <th>\"Notice</th>\n      <th>X-Mailer</th>\n      <th>&lt;http</th>\n    </tr>\n    <tr>\n      <th>Date</th>\n      <th></th>\n      <th></th>\n      <th></th>\n      <th></th>\n      <th></th>\n      <th></th>\n      <th></th>\n      <th></th>\n      <th></th>\n      <th></th>\n      <th></th>\n      <th></th>\n      <th></th>\n      <th></th>\n      <th></th>\n      <th></th>\n      <th></th>\n      <th></th>\n      <th></th>\n      <th></th>\n      <th></th>\n    </tr>\n  </thead>\n  <tbody>\n    <tr>\n      <th>2001-12-30 22:49:42-08:00</th>\n      <td>&lt;14955894.1075855377681.JavaMail.evans@thyme&gt;</td>\n      <td>Sun, 30 Dec 2001 22:49:42 -0800 (PST)</td>\n      <td>anchordesk_daily@anchordesk.zdlists.com</td>\n      <td>pallen@enron.com</td>\n      <td>ANCHORDESK: Hope ahead: What I learned from 20...</td>\n      <td>1.0</td>\n      <td>text/plain; charset=ANSI_X3.4-1968</td>\n      <td>7bit</td>\n      <td>\"AnchorDesk\" &lt;AnchorDesk_Daily@anchordesk.zdli...</td>\n      <td>pallen@ENRON.COM</td>\n      <td>...</td>\n      <td>pallen (Non-Privileged).pst</td>\n      <td>_____________________DAVID COURSEY____________...</td>\n      <td>NaN</td>\n      <td>NaN</td>\n      <td>NaN</td>\n      <td>NaN</td>\n      <td>NaN</td>\n      <td>NaN</td>\n      <td>NaN</td>\n      <td>NaN</td>\n    </tr>\n    <tr>\n      <th>2001-12-30 23:42:30-08:00</th>\n      <td>&lt;7462038.1075855377703.JavaMail.evans@thyme&gt;</td>\n      <td>Sun, 30 Dec 2001 23:42:30 -0800 (PST)</td>\n      <td>subscriptions@intelligencepress.com</td>\n      <td>pallen@enron.com</td>\n      <td>NGI Publications - Monday, December 31st 2001</td>\n      <td>1.0</td>\n      <td>text/plain; charset=us-ascii</td>\n      <td>7bit</td>\n      <td>subscriptions@intelligencepress.com@ENRON</td>\n      <td>pallen@enron.com</td>\n      <td>...</td>\n      <td>pallen (Non-Privileged).pst</td>\n      <td>Dear phillip,   This e-mail is automated notif...</td>\n      <td>NaN</td>\n      <td>NaN</td>\n      <td>NaN</td>\n      <td>NaN</td>\n      <td>NaN</td>\n      <td>NaN</td>\n      <td>NaN</td>\n      <td>NaN</td>\n    </tr>\n    <tr>\n      <th>2001-12-31 02:24:51-08:00</th>\n      <td>&lt;21572157.1075855377726.JavaMail.evans@thyme&gt;</td>\n      <td>Mon, 31 Dec 2001 02:24:51 -0800 (PST)</td>\n      <td>prizemachine@feedback.iwon.com</td>\n      <td>pallen@enron.com</td>\n      <td>Click. Spin. Chances to Win up to $10,000!</td>\n      <td>1.0</td>\n      <td>text/plain; charset=us-ascii</td>\n      <td>7bit</td>\n      <td>Prize Machine&lt;PrizeMachine@feedback.iwon.com&gt;@...</td>\n      <td>pallen@enron.com</td>\n      <td>...</td>\n      <td>pallen (Non-Privileged).pst</td>\n      <td>[IMAGE] [IMAGE]   [IMAGE]   [IMAGE] $ 2,500 [I...</td>\n      <td>NaN</td>\n      <td>NaN</td>\n      <td>NaN</td>\n      <td>NaN</td>\n      <td>NaN</td>\n      <td>NaN</td>\n      <td>NaN</td>\n      <td>NaN</td>\n    </tr>\n    <tr>\n      <th>2001-12-31 10:53:43-08:00</th>\n      <td>&lt;7618763.1075855377753.JavaMail.evans@thyme&gt;</td>\n      <td>Mon, 31 Dec 2001 10:53:43 -0800 (PST)</td>\n      <td>louise.kitchen@enron.com</td>\n      <td>wes.colwell@enron.com, georgeanne.hodges@enron...</td>\n      <td>NETCO</td>\n      <td>1.0</td>\n      <td>text/plain; charset=us-ascii</td>\n      <td>7bit</td>\n      <td>Kitchen, Louise &lt;/O=ENRON/OU=NA/CN=RECIPIENTS/...</td>\n      <td>Colwell, Wes &lt;/O=ENRON/OU=NA/CN=RECIPIENTS/CN=...</td>\n      <td>...</td>\n      <td>pallen (Non-Privileged).pst</td>\n      <td>The New Year has arrived and we really to fina...</td>\n      <td>john.lavorato@enron.com</td>\n      <td>john.lavorato@enron.com</td>\n      <td>NaN</td>\n      <td>NaN</td>\n      <td>NaN</td>\n      <td>NaN</td>\n      <td>NaN</td>\n      <td>NaN</td>\n    </tr>\n    <tr>\n      <th>2001-12-31 17:18:31-08:00</th>\n      <td>&lt;4845954.1075855377776.JavaMail.evans@thyme&gt;</td>\n      <td>Mon, 31 Dec 2001 17:18:31 -0800 (PST)</td>\n      <td>arsystem@mailman.enron.com</td>\n      <td>k..allen@enron.com</td>\n      <td>Your Approval is Overdue: Access Request for m...</td>\n      <td>1.0</td>\n      <td>text/plain; charset=us-ascii</td>\n      <td>7bit</td>\n      <td>ARSystem &lt;ARSystem@mailman.enron.com&gt;@ENRON</td>\n      <td>Allen, Phillip K. &lt;/O=ENRON/OU=NA/CN=RECIPIENT...</td>\n      <td>...</td>\n      <td>pallen (Non-Privileged).pst</td>\n      <td>This request has been pending your approval fo...</td>\n      <td>NaN</td>\n      <td>NaN</td>\n      <td>NaN</td>\n      <td>NaN</td>\n      <td>NaN</td>\n      <td>NaN</td>\n      <td>NaN</td>\n      <td>NaN</td>\n    </tr>\n    <tr>\n      <th>...</th>\n      <td>...</td>\n      <td>...</td>\n      <td>...</td>\n      <td>...</td>\n      <td>...</td>\n      <td>...</td>\n      <td>...</td>\n      <td>...</td>\n      <td>...</td>\n      <td>...</td>\n      <td>...</td>\n      <td>...</td>\n      <td>...</td>\n      <td>...</td>\n      <td>...</td>\n      <td>...</td>\n      <td>...</td>\n      <td>...</td>\n      <td>...</td>\n      <td>...</td>\n      <td>...</td>\n    </tr>\n    <tr>\n      <th>NaT</th>\n      <td>NaN</td>\n      <td>NaN</td>\n      <td>NaN</td>\n      <td>NaN</td>\n      <td>NaN</td>\n      <td>NaN</td>\n      <td>NaN</td>\n      <td>NaN</td>\n      <td>NaN</td>\n      <td>NaN</td>\n      <td>...</td>\n      <td>NaN</td>\n      <td>&lt;http://www.marketwatch.com/news/story.asp?sit...</td>\n      <td>NaN</td>\n      <td>NaN</td>\n      <td>NaN</td>\n      <td>NaN</td>\n      <td>NaN</td>\n      <td>NaN</td>\n      <td>NaN</td>\n      <td>NaN</td>\n    </tr>\n    <tr>\n      <th>NaT</th>\n      <td>NaN</td>\n      <td>NaN</td>\n      <td>NaN</td>\n      <td>NaN</td>\n      <td>NaN</td>\n      <td>NaN</td>\n      <td>NaN</td>\n      <td>NaN</td>\n      <td>NaN</td>\n      <td>NaN</td>\n      <td>...</td>\n      <td>NaN</td>\n      <td></td>\n      <td>NaN</td>\n      <td>NaN</td>\n      <td>//remoteservices.netco.enron.com/ica/ubswenerg...</td>\n      <td>NaN</td>\n      <td>NaN</td>\n      <td>NaN</td>\n      <td>NaN</td>\n      <td>NaN</td>\n    </tr>\n    <tr>\n      <th>NaT</th>\n      <td>NaN</td>\n      <td>NaN</td>\n      <td>NaN</td>\n      <td>NaN</td>\n      <td>NaN</td>\n      <td>NaN</td>\n      <td>NaN</td>\n      <td>NaN</td>\n      <td>NaN</td>\n      <td>NaN</td>\n      <td>...</td>\n      <td>NaN</td>\n      <td>STACK MANAGER User ID: azipper Password: q#9M#...</td>\n      <td>NaN</td>\n      <td>NaN</td>\n      <td>NaN</td>\n      <td>NaN</td>\n      <td>NaN</td>\n      <td>NaN</td>\n      <td>NaN</td>\n      <td>NaN</td>\n    </tr>\n    <tr>\n      <th>NaT</th>\n      <td>NaN</td>\n      <td>NaN</td>\n      <td>NaN</td>\n      <td>NaN</td>\n      <td>NaN</td>\n      <td>NaN</td>\n      <td>NaN</td>\n      <td>NaN</td>\n      <td>NaN</td>\n      <td>NaN</td>\n      <td>...</td>\n      <td>NaN</td>\n      <td></td>\n      <td>NaN</td>\n      <td>NaN</td>\n      <td>//remoteservices.netco.enron.com/ica/ubswenerg...</td>\n      <td>NaN</td>\n      <td>NaN</td>\n      <td>NaN</td>\n      <td>NaN</td>\n      <td>NaN</td>\n    </tr>\n    <tr>\n      <th>NaT</th>\n      <td>NaN</td>\n      <td>NaN</td>\n      <td>NaN</td>\n      <td>NaN</td>\n      <td>NaN</td>\n      <td>NaN</td>\n      <td>NaN</td>\n      <td>NaN</td>\n      <td>NaN</td>\n      <td>NaN</td>\n      <td>...</td>\n      <td>NaN</td>\n      <td>STACK MANAGER User ID: JZUFFER Password: q#9M#...</td>\n      <td>NaN</td>\n      <td>NaN</td>\n      <td>NaN</td>\n      <td>NaN</td>\n      <td>NaN</td>\n      <td>NaN</td>\n      <td>NaN</td>\n      <td>NaN</td>\n    </tr>\n  </tbody>\n</table>\n<p>42191 rows × 24 columns</p>\n</div>"
     },
     "metadata": {},
     "execution_count": 7
    }
   ],
   "source": [
    "mbox_to_df()"
   ]
  },
  {
   "cell_type": "code",
   "execution_count": null,
   "metadata": {},
   "outputs": [],
   "source": []
  }
 ],
 "metadata": {
  "kernelspec": {
   "display_name": "Python 3",
   "language": "python",
   "name": "python3"
  },
  "language_info": {
   "codemirror_mode": {
    "name": "ipython",
    "version": 3
   },
   "file_extension": ".py",
   "mimetype": "text/x-python",
   "name": "python",
   "nbconvert_exporter": "python",
   "pygments_lexer": "ipython3",
   "version": "3.7.6"
  }
 },
 "nbformat": 4,
 "nbformat_minor": 4
}