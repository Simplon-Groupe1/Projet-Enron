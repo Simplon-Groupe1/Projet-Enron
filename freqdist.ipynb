{
 "metadata": {
  "language_info": {
   "codemirror_mode": {
    "name": "ipython",
    "version": 3
   },
   "file_extension": ".py",
   "mimetype": "text/x-python",
   "name": "python",
   "nbconvert_exporter": "python",
   "pygments_lexer": "ipython3",
   "version": "3.7.6-final"
  },
  "orig_nbformat": 2,
  "kernelspec": {
   "name": "python_defaultSpec_1598359208534",
   "display_name": "Python 3.7.6 64-bit ('base': conda)"
  }
 },
 "nbformat": 4,
 "nbformat_minor": 2,
 "cells": [
  {
   "cell_type": "code",
   "execution_count": 46,
   "metadata": {
    "tags": []
   },
   "outputs": [],
   "source": [
    "from nltk.probability import FreqDist\n",
    "from nltk.corpus import stopwords\n",
    "from nltk.tokenize import RegexpTokenizer\n",
    "from nltk.stem import LancasterStemmer\n",
    "import nltk\n",
    "import csv"
   ]
  },
  {
   "cell_type": "code",
   "execution_count": 2,
   "metadata": {},
   "outputs": [
    {
     "output_type": "execute_result",
     "data": {
      "text/plain": "131072"
     },
     "metadata": {},
     "execution_count": 2
    }
   ],
   "source": [
    "csv.field_size_limit(100000000)"
   ]
  },
  {
   "cell_type": "code",
   "execution_count": 70,
   "metadata": {
    "tags": []
   },
   "outputs": [],
   "source": [
    "with open('sample.csv', 'r') as csvfile :\n",
    "    mail = csv.reader(csvfile, delimiter='|')\n",
    "    tokens=''\n",
    "    for message in mail:\n",
    "        tokens=tokens + message[6]\n"
   ]
  },
  {
   "cell_type": "code",
   "execution_count": 71,
   "metadata": {
    "tags": []
   },
   "outputs": [
    {
     "output_type": "stream",
     "name": "stdout",
     "text": "<FreqDist with 10293 samples and 26385 outcomes>\n[('enron', 273), ('fw', 272), ('energy', 172), ('hourahead', 170), ('hour', 148), ('gas', 147), ('date', 147), ('power', 146), ('new', 146), ('meeting', 136), ('codesite', 114), ('report', 108), ('start', 108), ('e', 99), ('conference', 91), ('com', 90), ('request', 82), ('credit', 82), ('deal', 77), ('trading', 72), ('daily', 69), ('eol', 67), ('agreementre', 64), ('call', 63), ('update', 62), ('market', 59), ('access', 59), ('day', 58), ('schedule', 58), ('agreement', 54), ('th', 52), ('letter', 52), ('contract', 49), ('p', 49), ('may', 48), ('october', 48), ('l', 48), ('inc', 47), ('notification', 47), ('california', 47), ('meetingre', 46), ('change', 46), ('ferc', 46), ('time', 45), ('news', 45), ('fwd', 45), ('draft', 44), ('management', 44), ('today', 44), ('june', 43), ('master', 43), ('lay', 42), ('legal', 42), ('ena', 41), ('weekly', 41), ('isda', 41), ('west', 41), ('price', 41), ('december', 40), ('revised', 40), ('risk', 40), ('please', 40), ('outage', 39), ('ge', 39), ('services', 37), ('data', 37), ('summary', 37), ('purchase', 37), ('order', 36), ('ken', 36), ('hpl', 36), ('april', 34), ('w', 34), ('us', 34), ('approval', 34), ('january', 33), ('information', 33), ('financial', 33), ('online', 33), ('final', 33), ('list', 32), ('stock', 32), ('year', 32), ('march', 31), ('reports', 31), ('business', 31), ('expense', 30), ('sale', 30), ('office', 30), ('action', 30), ('november', 29), ('corp', 29), ('natural', 29), ('swap', 29), ('c', 29), ('meter', 28), ('document', 28), ('project', 28), ('tw', 28), ('plan', 28)]\n"
    }
   ],
   "source": [
    "tokenizer = nltk.RegexpTokenizer(r\"[a-zA-Z]+\")\n",
    "tokenized_messages = [t.lower() for t in tokenizer.tokenize(tokens)]\n",
    "# tokenized_messages=nltk.word_tokenize(tokens)\n",
    "# stemmer = LancasterStemmer()\n",
    "# tokenized_messages = [ stemmer.stem(token) for token in tokenized_messages ]\n",
    "stopwords = nltk.corpus.stopwords.words('english')\n",
    "filtered_tokenized_messages = [word for word in tokenized_messages if word not in stopwords]\n",
    "fdist = FreqDist(filtered_tokenized_messages)\n",
    "common = fdist.most_common(100)\n",
    "#print(tokenized_messages)\n",
    "print(fdist)\n",
    "print(common)"
   ]
  }
 ]
}