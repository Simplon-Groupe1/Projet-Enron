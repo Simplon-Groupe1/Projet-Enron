{
 "metadata": {
  "language_info": {
   "codemirror_mode": {
    "name": "ipython",
    "version": 3
   },
   "file_extension": ".py",
   "mimetype": "text/x-python",
   "name": "python",
   "nbconvert_exporter": "python",
   "pygments_lexer": "ipython3",
   "version": "3.7.6-final"
  },
  "orig_nbformat": 2,
  "kernelspec": {
   "name": "python_defaultSpec_1598359208534",
   "display_name": "Python 3.7.6 64-bit ('base': conda)"
  }
 },
 "nbformat": 4,
 "nbformat_minor": 2,
 "cells": [
  {
   "cell_type": "code",
   "execution_count": 79,
   "metadata": {
    "tags": []
   },
   "outputs": [],
   "source": [
    "from nltk.probability import FreqDist\n",
    "from nltk.corpus import stopwords\n",
    "from nltk.tokenize import RegexpTokenizer\n",
    "#from nltk.stem import LancasterStemmer\n",
    "from nltk.collocations import TrigramCollocationFinder\n",
    "from nltk.metrics import TrigramAssocMeasures\n",
    "import nltk\n",
    "import csv"
   ]
  },
  {
   "cell_type": "code",
   "execution_count": 2,
   "metadata": {},
   "outputs": [
    {
     "output_type": "execute_result",
     "data": {
      "text/plain": "131072"
     },
     "metadata": {},
     "execution_count": 2
    }
   ],
   "source": [
    "csv.field_size_limit(100000000)"
   ]
  },
  {
   "cell_type": "code",
   "execution_count": 70,
   "metadata": {
    "tags": []
   },
   "outputs": [],
   "source": [
    "with open('sample.csv', 'r') as csvfile :\n",
    "    mail = csv.reader(csvfile, delimiter='|')\n",
    "    tokens=''\n",
    "    for message in mail:\n",
    "        tokens=tokens + message[6]\n"
   ]
  },
  {
   "cell_type": "code",
   "execution_count": 87,
   "metadata": {
    "tags": []
   },
   "outputs": [
    {
     "output_type": "stream",
     "name": "stdout",
     "text": "<FreqDist with 10101 samples and 24125 outcomes>\n[('enron', 273), ('energy', 172), ('gas', 147), ('power', 146), ('new', 146), ('meeting', 136), ('report', 108), ('conference', 91), ('com', 90), ('credit', 82), ('deal', 77), ('trading', 72), ('daily', 69), ('eol', 67), ('agreementre', 64), ('call', 63), ('update', 62), ('market', 59), ('day', 58), ('schedule', 58), ('agreement', 54), ('letter', 52), ('contract', 49), ('may', 48), ('october', 48), ('inc', 47), ('notification', 47), ('california', 47), ('meetingre', 46), ('change', 46), ('ferc', 46), ('time', 45), ('news', 45), ('fwd', 45), ('draft', 44), ('management', 44), ('today', 44), ('june', 43), ('master', 43), ('lay', 42), ('legal', 42), ('ena', 41), ('weekly', 41), ('isda', 41), ('west', 41), ('price', 41), ('december', 40), ('revised', 40), ('risk', 40), ('please', 40), ('outage', 39), ('services', 37), ('data', 37), ('summary', 37), ('purchase', 37), ('order', 36), ('ken', 36), ('hpl', 36), ('april', 34), ('approval', 34), ('january', 33), ('information', 33), ('financial', 33), ('online', 33), ('final', 33), ('list', 32), ('stock', 32), ('year', 32), ('march', 31), ('reports', 31), ('business', 31), ('expense', 30), ('sale', 30), ('office', 30), ('action', 30), ('november', 29), ('corp', 29), ('natural', 29), ('swap', 29), ('meter', 28), ('document', 28), ('project', 28), ('plan', 28), ('week', 28), ('houston', 28), ('crawler', 28), ('response', 28), ('product', 27), ('capacity', 27), ('performance', 27), ('mtg', 27), ('updatere', 26), ('free', 26), ('deals', 26), ('one', 26), ('release', 26), ('monday', 26), ('name', 25), ('pipeline', 25), ('notice', 25)]\n"
    }
   ],
   "source": [
    "tokenizer = nltk.RegexpTokenizer(r\"[a-zA-Z]{3,}\")\n",
    "tokenized_messages = [t.lower() for t in tokenizer.tokenize(tokens)]\n",
    "# tokenized_messages=nltk.word_tokenize(tokens)\n",
    "# stemmer = LancasterStemmer()\n",
    "# tokenized_messages = [ stemmer.stem(token) for token in tokenized_messages ]\n",
    "stopwords = nltk.corpus.stopwords.words('english')\n",
    "filtered_tokenized_messages = [word for word in tokenized_messages if word not in stopwords]\n",
    "without_words=['hour', 'codesite', 'hourahead', 'date', 'request', 'access', 'start']\n",
    "filtered_tokenized_messages = [word for word in filtered_tokenized_messages if word not in without_words]\n",
    "fdist = FreqDist(filtered_tokenized_messages)\n",
    "common = fdist.most_common(100)\n",
    "#print(tokenized_messages)\n",
    "print(fdist)\n",
    "print(common)"
   ]
  },
  {
   "cell_type": "code",
   "execution_count": 88,
   "metadata": {},
   "outputs": [
    {
     "output_type": "execute_result",
     "data": {
      "text/plain": "[('ken', 'lay', 'donate'),\n ('lay', 'donate', 'proceeds'),\n ('salesdemand', 'ken', 'lay'),\n ('donate', 'proceeds', 'enron'),\n ('stock', 'salesdemand', 'ken'),\n ('proceeds', 'enron', 'stock'),\n ('schedule', 'crawler', 'failure'),\n ('weekend', 'outage', 'report'),\n ('enron', 'stock', 'salesdemand'),\n ('concur', 'expense', 'document'),\n ('message', 'ken', 'lay'),\n ('ken', 'lay', 'frontvolunteer'),\n ('ken', 'lay', 'speechcalifornia'),\n ('ken', 'lay', 'tourcbs'),\n ('olsondemand', 'ken', 'lay'),\n ('salesmarinerdemand', 'ken', 'lay'),\n ('transmittal', 'ken', 'lay'),\n ('pointsre', 'ken', 'lay'),\n ('alumni', 'ken', 'lay'),\n ('ken', 'lay', 'senator'),\n ('cold', 'ken', 'lay'),\n ('briefing', 'ken', 'lay'),\n ('issuesre', 'ken', 'lay'),\n ('ken', 'lay', 'good'),\n ('ken', 'lay', 'jeff'),\n ('demand', 'ken', 'lay'),\n ('ken', 'lay', 'draft'),\n ('ken', 'lay', 'meeting'),\n ('crawler', 'failure', 'schedule'),\n ('xlsschedule', 'crawler', 'failure'),\n ('region', 'outage', 'report'),\n ('contractsschedule', 'crawler', 'failure'),\n ('crawler', 'failure', 'renewable'),\n ('curvesschedule', 'crawler', 'failure'),\n ('informationschedule', 'crawler', 'failure'),\n ('crawler', 'failure', 'new'),\n ('crawler', 'failure', 'grays'),\n ('crawler', 'failure', 'ncpa'),\n ('crawler', 'failure', 'picturesre'),\n ('crawler', 'failure', 'bushton'),\n ('crawler', 'failure', 'ethink'),\n ('failure', 'schedule', 'crawler'),\n ('crawler', 'failure', 'issues'),\n ('crawler', 'failure', 'holiday'),\n ('crawler', 'failure', 'ees'),\n ('crawler', 'failure', 'group'),\n ('conference', 'call', 'friday'),\n ('headlines', 'nytimes', 'com'),\n ('crawler', 'failure', 'price'),\n ('supplemental', 'weekend', 'outage'),\n ('schedule', 'crawler', 'failurestart'),\n ('analyst', 'conference', 'call'),\n ('outage', 'report', 'december'),\n ('conference', 'call', 'today'),\n ('outage', 'report', 'may'),\n ('conference', 'call', 'tuesday'),\n ('conference', 'call', 'list'),\n ('articlesre', 'conference', 'call'),\n ('conference', 'call', 'afternoonedgecombe'),\n ('conference', 'call', 'agendaferc'),\n ('conference', 'call', 'agendarequest'),\n ('conference', 'call', 'eare'),\n ('conference', 'call', 'playback'),\n ('conference', 'call', 'playbackre'),\n ('conference', 'call', 'replay'),\n ('conference', 'call', 'srac'),\n ('conference', 'call', 'todayamendment'),\n ('edisonimportant', 'conference', 'call'),\n ('offeringmidwayre', 'conference', 'call'),\n ('promotionre', 'conference', 'call'),\n ('ratesre', 'conference', 'call'),\n ('rotationcera', 'conference', 'call'),\n ('tanicera', 'conference', 'call'),\n ('usersenron', 'conference', 'call'),\n ('dashre', 'conference', 'call'),\n ('marketers', 'conference', 'call'),\n ('nrg', 'conference', 'call'),\n ('resolutionsre', 'conference', 'call'),\n ('conference', 'call', 'agendafw'),\n ('conference', 'call', 'paul'),\n ('conference', 'call', 'prepare'),\n ('allocation', 'conference', 'call'),\n ('chartre', 'conference', 'call'),\n ('conference', 'call', 'eric'),\n ('conference', 'call', 'tomorrowre'),\n ('ojectre', 'conference', 'call'),\n ('act', 'conference', 'call'),\n ('conference', 'call', 'rick'),\n ('bond', 'conference', 'call'),\n ('conference', 'call', 'discuss'),\n ('conference', 'call', 'scheduled'),\n ('study', 'conference', 'call'),\n ('cera', 'conference', 'call'),\n ('conference', 'call', 'interconnection'),\n ('dog', 'conference', 'call'),\n ('conference', 'call', 'ees'),\n ('marketing', 'conference', 'call'),\n ('conference', 'call', 'next'),\n ('conference', 'call', 'monday'),\n ('free', 'conference', 'call')]"
     },
     "metadata": {},
     "execution_count": 88
    }
   ],
   "source": [
    "trigram_collocation = TrigramCollocationFinder.from_words(filtered_tokenized_messages)\n",
    "trigram_collocation.nbest(TrigramAssocMeasures.likelihood_ratio, 100)"
   ]
  },
  {
   "cell_type": "code",
   "execution_count": null,
   "metadata": {},
   "outputs": [],
   "source": []
  }
 ]
}