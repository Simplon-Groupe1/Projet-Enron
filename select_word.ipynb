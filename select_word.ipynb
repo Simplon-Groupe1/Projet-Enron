{
 "metadata": {
  "language_info": {
   "codemirror_mode": {
    "name": "ipython",
    "version": 3
   },
   "file_extension": ".py",
   "mimetype": "text/x-python",
   "name": "python",
   "nbconvert_exporter": "python",
   "pygments_lexer": "ipython3",
   "version": "3.7.6-final"
  },
  "orig_nbformat": 2,
  "kernelspec": {
   "name": "python_defaultSpec_1598444846517",
   "display_name": "Python 3.7.6 64-bit ('utilisateur': virtualenv)"
  }
 },
 "nbformat": 4,
 "nbformat_minor": 2,
 "cells": [
  {
   "cell_type": "code",
   "execution_count": 35,
   "metadata": {},
   "outputs": [],
   "source": [
    "# import numpy\n",
    "import pandas as pd\n",
    "import csv"
   ]
  },
  {
   "cell_type": "code",
   "execution_count": 185,
   "metadata": {},
   "outputs": [],
   "source": [
    "def select_word(word):\n",
    "    \"\"\"Create a dataframe of the mails containing the target word.\n",
    "    \n",
    "    Args:\n",
    "        word(str): target word to find.\n",
    "\n",
    "    Returns:\n",
    "        df:dataframe\n",
    "    \"\"\"\n",
    "    csv.field_size_limit(100000000)\n",
    "    target=str(word).lower()\n",
    "    data=[]\n",
    "\n",
    "    with open('sample.csv', 'r') as csvfile:\n",
    "        mails = csv.reader(csvfile, delimiter='|')\n",
    "        for message in mails:\n",
    "            body_message=message[7].lower()\n",
    "            if body_message.__contains__(target)==True:\n",
    "                temp=[\n",
    "                    message[1],\n",
    "                    message[2],\n",
    "                    message[3],\n",
    "                    message[4],\n",
    "                    message[5],\n",
    "                    message[6],\n",
    "                    message[7]]\n",
    "                    \n",
    "                data.append(temp)\n",
    "                df = pd.DataFrame(data, columns=['Date',  'From',  'To', 'Cc',  'Bcc',  'Subject', 'Body']) \n",
    "\n",
    "    return df.head()"
   ]
  },
  {
   "cell_type": "code",
   "execution_count": 186,
   "metadata": {
    "tags": []
   },
   "outputs": [
    {
     "output_type": "execute_result",
     "data": {
      "text/plain": "                        Date                           From  \\\n0  2000-09-21 04:21:00-07:00         sabrae.zajac@enron.com   \n1  2000-08-07 02:31:00-07:00          buylow@houston.rr.com   \n2  2001-01-11 07:56:00-08:00      lillian.carroll@enron.com   \n3  2000-03-28 23:33:00-08:00  kingwoodcove.golf@ourclub.com   \n4  2001-04-26 05:21:26-07:00            j..farmer@enron.com   \n\n                                                  To  \\\n0  jackie.young@enron.com, aimee.lannou@enron.com...   \n1                           daren.j.farmer@enron.com   \n2  thomas.martin@enron.com, jim.schwieger@enron.c...   \n3                      kingwoodcove.golf@ourclub.com   \n4                          brandee.jackson@enron.com   \n\n                                                  Cc  \\\n0  edward.gottlob@enron.com, lauri.allen@enron.co...   \n1                                                      \n2                                                      \n3                                                      \n4                                                      \n\n                                                 Bcc  \\\n0  edward.gottlob@enron.com, lauri.allen@enron.co...   \n1                                                      \n2                                                      \n3                                                      \n4                                                      \n\n                                             Subject  \\\n0  3rd Party Maintenance at Meter 6040 for 29th &...   \n1                                              Enron   \n2                                        Sale of HPL   \n3                              April Golf Specials!!   \n4                                       RE: Monitors   \n\n                                                Body  \n0  Hello,   I just spoke with Lorraine @ PG&E and...  \n1  ??? KEEP UP THE GOOD WORK. ? WE AT HOME LOVE I...  \n2  To all:   The proposed sale of HPL to American...  \n3  Welcome & Enjoy Kingwood Cove Golf Specials.  ...  \n4  Brandee,   Don't order any new equipment.  Geo...  ",
      "text/html": "<div>\n<style scoped>\n    .dataframe tbody tr th:only-of-type {\n        vertical-align: middle;\n    }\n\n    .dataframe tbody tr th {\n        vertical-align: top;\n    }\n\n    .dataframe thead th {\n        text-align: right;\n    }\n</style>\n<table border=\"1\" class=\"dataframe\">\n  <thead>\n    <tr style=\"text-align: right;\">\n      <th></th>\n      <th>Date</th>\n      <th>From</th>\n      <th>To</th>\n      <th>Cc</th>\n      <th>Bcc</th>\n      <th>Subject</th>\n      <th>Body</th>\n    </tr>\n  </thead>\n  <tbody>\n    <tr>\n      <th>0</th>\n      <td>2000-09-21 04:21:00-07:00</td>\n      <td>sabrae.zajac@enron.com</td>\n      <td>jackie.young@enron.com, aimee.lannou@enron.com...</td>\n      <td>edward.gottlob@enron.com, lauri.allen@enron.co...</td>\n      <td>edward.gottlob@enron.com, lauri.allen@enron.co...</td>\n      <td>3rd Party Maintenance at Meter 6040 for 29th &amp;...</td>\n      <td>Hello,   I just spoke with Lorraine @ PG&amp;E and...</td>\n    </tr>\n    <tr>\n      <th>1</th>\n      <td>2000-08-07 02:31:00-07:00</td>\n      <td>buylow@houston.rr.com</td>\n      <td>daren.j.farmer@enron.com</td>\n      <td></td>\n      <td></td>\n      <td>Enron</td>\n      <td>??? KEEP UP THE GOOD WORK. ? WE AT HOME LOVE I...</td>\n    </tr>\n    <tr>\n      <th>2</th>\n      <td>2001-01-11 07:56:00-08:00</td>\n      <td>lillian.carroll@enron.com</td>\n      <td>thomas.martin@enron.com, jim.schwieger@enron.c...</td>\n      <td></td>\n      <td></td>\n      <td>Sale of HPL</td>\n      <td>To all:   The proposed sale of HPL to American...</td>\n    </tr>\n    <tr>\n      <th>3</th>\n      <td>2000-03-28 23:33:00-08:00</td>\n      <td>kingwoodcove.golf@ourclub.com</td>\n      <td>kingwoodcove.golf@ourclub.com</td>\n      <td></td>\n      <td></td>\n      <td>April Golf Specials!!</td>\n      <td>Welcome &amp; Enjoy Kingwood Cove Golf Specials.  ...</td>\n    </tr>\n    <tr>\n      <th>4</th>\n      <td>2001-04-26 05:21:26-07:00</td>\n      <td>j..farmer@enron.com</td>\n      <td>brandee.jackson@enron.com</td>\n      <td></td>\n      <td></td>\n      <td>RE: Monitors</td>\n      <td>Brandee,   Don't order any new equipment.  Geo...</td>\n    </tr>\n  </tbody>\n</table>\n</div>"
     },
     "metadata": {},
     "execution_count": 186
    }
   ],
   "source": [
    "select_word('keep')"
   ]
  },
  {
   "cell_type": "code",
   "execution_count": null,
   "metadata": {},
   "outputs": [],
   "source": []
  }
 ]
}