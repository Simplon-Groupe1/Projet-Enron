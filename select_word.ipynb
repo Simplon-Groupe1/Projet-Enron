{
 "metadata": {
  "language_info": {
   "codemirror_mode": {
    "name": "ipython",
    "version": 3
   },
   "file_extension": ".py",
   "mimetype": "text/x-python",
   "name": "python",
   "nbconvert_exporter": "python",
   "pygments_lexer": "ipython3",
   "version": "3.7.6-final"
  },
  "orig_nbformat": 2,
  "kernelspec": {
   "name": "python_defaultSpec_1598444846517",
   "display_name": "Python 3.7.6 64-bit ('utilisateur': virtualenv)"
  }
 },
 "nbformat": 4,
 "nbformat_minor": 2,
 "cells": [
  {
   "cell_type": "code",
   "execution_count": 217,
   "metadata": {},
   "outputs": [],
   "source": [
    "import pandas as pd\n",
    "import csv"
   ]
  },
  {
   "cell_type": "code",
   "execution_count": 248,
   "metadata": {},
   "outputs": [],
   "source": [
    "def wordFromCSV(src, word):\n",
    "    \"\"\"Create a dataframe of the mails containing the target word.\n",
    "    \n",
    "    Args:\n",
    "        src(csv): source of mails to explore.\n",
    "        word(str): target word to find.\n",
    "\n",
    "    Returns:\n",
    "        df:dataframe\n",
    "    \"\"\"\n",
    "    csv.field_size_limit(100000000)\n",
    "    data=[]\n",
    "    target=word.lower()\n",
    "    # for i in range(len(target)):            #-------TEST WITH A LIST OF WORDS\n",
    "    #     target[i] = target[i].lower()\n",
    "\n",
    "\n",
    "    with open(src, 'r') as csvfile:\n",
    "        mails = csv.reader(csvfile, delimiter='|')\n",
    "        for message in mails:\n",
    "            body_message=message[7].lower()\n",
    "            if body_message.__contains__(target)==True:\n",
    "                temp=[\n",
    "                    message[1],\n",
    "                    message[2],\n",
    "                    message[3],\n",
    "                    message[4],\n",
    "                    message[5],\n",
    "                    message[6],\n",
    "                    message[7]]\n",
    "                    \n",
    "                data.append(temp)\n",
    "                df = pd.DataFrame(data, columns=['Date',  'From',  'To', 'Cc',  'Bcc',  'Subject', 'Body']) \n",
    "\n",
    "    return df.head()"
   ]
  },
  {
   "cell_type": "code",
   "execution_count": 254,
   "metadata": {},
   "outputs": [],
   "source": [
    "def wordFromDF(src, word):\n",
    "    \"\"\"Create a dataframe of the mails containing the target word.\n",
    "    \n",
    "    Args:\n",
    "        src(dataFrame): source of mails to explore.\n",
    "        word(str): target word to find.\n",
    "\n",
    "    Returns:\n",
    "        df:dataframe\n",
    "    \"\"\"\n",
    "    data=[]\n",
    "    target=word.lower()\n",
    "    # for i in range(len(target)):            #-------TEST WITH A LIST OF WORDS\n",
    "    #     target[i] = target[i].lower()\n",
    "\n",
    "    for index, message in src.iterrows():\n",
    "        body_message=message['Body'].lower()\n",
    "        if body_message.__contains__(target)==True:\n",
    "            temp=[\n",
    "                    message[0],\n",
    "                    message[1],\n",
    "                    message[2],\n",
    "                    message[3],\n",
    "                    message[4],\n",
    "                    message[5],\n",
    "                    message[6]]\n",
    "                    \n",
    "            data.append(temp)\n",
    "            df = pd.DataFrame(data, columns=['Date',  'From',  'To', 'Cc',  'Bcc',  'Subject', 'Body']) \n",
    "\n",
    "    return df.head()"
   ]
  },
  {
   "cell_type": "code",
   "execution_count": 255,
   "metadata": {
    "tags": []
   },
   "outputs": [
    {
     "output_type": "execute_result",
     "data": {
      "text/plain": "                        Date                            From  \\\n0  2000-11-21 03:13:00-08:00  info@electionintegrity2000.com   \n1  2000-12-27 02:28:00-08:00           steven.kean@enron.com   \n\n                        To Cc Bcc  \\\n0          ebass@enron.com          \n1  jeff.dasovich@enron.com          \n\n                                             Subject  \\\n0     FW: Urgent -- Stop Al Gore from Election Theft   \n1  Re: DRAFT talking points for California PUC He...   \n\n                                                Body  \n0  Dear Eric,  Keep up the good work!  Election I...  \n1  This is very good work.  You make all the poin...  ",
      "text/html": "<div>\n<style scoped>\n    .dataframe tbody tr th:only-of-type {\n        vertical-align: middle;\n    }\n\n    .dataframe tbody tr th {\n        vertical-align: top;\n    }\n\n    .dataframe thead th {\n        text-align: right;\n    }\n</style>\n<table border=\"1\" class=\"dataframe\">\n  <thead>\n    <tr style=\"text-align: right;\">\n      <th></th>\n      <th>Date</th>\n      <th>From</th>\n      <th>To</th>\n      <th>Cc</th>\n      <th>Bcc</th>\n      <th>Subject</th>\n      <th>Body</th>\n    </tr>\n  </thead>\n  <tbody>\n    <tr>\n      <th>0</th>\n      <td>2000-11-21 03:13:00-08:00</td>\n      <td>info@electionintegrity2000.com</td>\n      <td>ebass@enron.com</td>\n      <td></td>\n      <td></td>\n      <td>FW: Urgent -- Stop Al Gore from Election Theft</td>\n      <td>Dear Eric,  Keep up the good work!  Election I...</td>\n    </tr>\n    <tr>\n      <th>1</th>\n      <td>2000-12-27 02:28:00-08:00</td>\n      <td>steven.kean@enron.com</td>\n      <td>jeff.dasovich@enron.com</td>\n      <td></td>\n      <td></td>\n      <td>Re: DRAFT talking points for California PUC He...</td>\n      <td>This is very good work.  You make all the poin...</td>\n    </tr>\n  </tbody>\n</table>\n</div>"
     },
     "metadata": {},
     "execution_count": 255
    }
   ],
   "source": [
    "# Example of utilisation\n",
    "# test_good_work=wordFromCSV('sample.csv', 'good work')\n",
    "# wordFromDF(test_good_work, 'Eric')\n",
    "wordFromCSV('sample.csv', 'good work')"
   ]
  },
  {
   "cell_type": "code",
   "execution_count": null,
   "metadata": {},
   "outputs": [],
   "source": []
  }
 ]
}