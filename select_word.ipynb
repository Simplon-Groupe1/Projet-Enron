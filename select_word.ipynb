{
 "metadata": {
  "language_info": {
   "codemirror_mode": {
    "name": "ipython",
    "version": 3
   },
   "file_extension": ".py",
   "mimetype": "text/x-python",
   "name": "python",
   "nbconvert_exporter": "python",
   "pygments_lexer": "ipython3",
   "version": "3.7.6-final"
  },
  "orig_nbformat": 2,
  "kernelspec": {
   "name": "python_defaultSpec_1598444846517",
   "display_name": "Python 3.7.6 64-bit ('utilisateur': virtualenv)"
  }
 },
 "nbformat": 4,
 "nbformat_minor": 2,
 "cells": [
  {
   "cell_type": "code",
   "execution_count": 217,
   "metadata": {},
   "outputs": [],
   "source": [
    "import pandas as pd\n",
    "import csv"
   ]
  },
  {
   "cell_type": "code",
   "execution_count": 248,
   "metadata": {},
   "outputs": [],
   "source": [
    "def wordFromCSV(src, word):\n",
    "    \"\"\"Create a dataframe of the mails containing the target word.\n",
    "    \n",
    "    Args:\n",
    "        src(csv): source of mails to explore.\n",
    "        word(str): target word to find.\n",
    "\n",
    "    Returns:\n",
    "        df:dataframe\n",
    "    \"\"\"\n",
    "    csv.field_size_limit(100000000)\n",
    "    data=[]\n",
    "    target=word.lower()\n",
    "    # for i in range(len(target)):            #-------TEST WITH A LIST OF WORDS\n",
    "    #     target[i] = target[i].lower()\n",
    "\n",
    "\n",
    "    with open(src, 'r') as csvfile:\n",
    "        mails = csv.reader(csvfile, delimiter='|')\n",
    "        for message in mails:\n",
    "            body_message=message[7].lower()\n",
    "            if body_message.__contains__(target)==True:\n",
    "                temp=[\n",
    "                    message[1],\n",
    "                    message[2],\n",
    "                    message[3],\n",
    "                    message[4],\n",
    "                    message[5],\n",
    "                    message[6],\n",
    "                    message[7]]\n",
    "                    \n",
    "                data.append(temp)\n",
    "                df = pd.DataFrame(data, columns=['Date',  'From',  'To', 'Cc',  'Bcc',  'Subject', 'Body']) \n",
    "\n",
    "    return df"
   ]
  },
  {
   "cell_type": "code",
   "execution_count": 254,
   "metadata": {},
   "outputs": [],
   "source": [
    "def wordFromDF(src, word):\n",
    "    \"\"\"Create a dataframe of the mails containing the target word.\n",
    "    \n",
    "    Args:\n",
    "        src(dataFrame): source of mails to explore.\n",
    "        word(str): target word to find.\n",
    "\n",
    "    Returns:\n",
    "        df:dataframe\n",
    "    \"\"\"\n",
    "    data=[]\n",
    "    target=word.lower()\n",
    "    # for i in range(len(target)):            #-------TEST WITH A LIST OF WORDS\n",
    "    #     target[i] = target[i].lower()\n",
    "\n",
    "    for index, message in src.iterrows():\n",
    "        body_message=message['Body'].lower()\n",
    "        if body_message.__contains__(target)==True:\n",
    "            temp=[\n",
    "                    message[0],\n",
    "                    message[1],\n",
    "                    message[2],\n",
    "                    message[3],\n",
    "                    message[4],\n",
    "                    message[5],\n",
    "                    message[6]]\n",
    "                    \n",
    "            data.append(temp)\n",
    "            df = pd.DataFrame(data, columns=['Date',  'From',  'To', 'Cc',  'Bcc',  'Subject', 'Body']) \n",
    "\n",
    "    return df"
   ]
  },
  {
   "cell_type": "code",
   "execution_count": 256,
   "metadata": {
    "tags": []
   },
   "outputs": [
    {
     "output_type": "execute_result",
     "data": {
      "text/plain": "                        Date                            From  \\\n0  2000-08-07 02:31:00-07:00           buylow@houston.rr.com   \n1  2000-11-21 03:13:00-08:00  info@electionintegrity2000.com   \n2  2000-12-27 02:28:00-08:00           steven.kean@enron.com   \n3  2000-12-05 06:23:00-08:00          jackie.henry@enron.com   \n4  2001-04-23 00:59:00-07:00              bill.iii@enron.com   \n\n                                                  To Cc Bcc  \\\n0                           daren.j.farmer@enron.com          \n1                                    ebass@enron.com          \n2                            jeff.dasovich@enron.com          \n3  kenneth.lay@enron.com, jeff.skilling@enron.com...          \n4                           portland.shift@enron.com          \n\n                                             Subject  \\\n0                                              Enron   \n1     FW: Urgent -- Stop Al Gore from Election Theft   \n2  Re: DRAFT talking points for California PUC He...   \n3                                         Thank You!   \n4                             Issues from the floor.   \n\n                                                Body  \n0  ??? KEEP UP THE GOOD WORK. ? WE AT HOME LOVE I...  \n1  Dear Eric,  Keep up the good work!  Election I...  \n2  This is very good work.  You make all the poin...  \n3  For years I followed the positive contribution...  \n4  Group, Two quick things...  First- from volume...  ",
      "text/html": "<div>\n<style scoped>\n    .dataframe tbody tr th:only-of-type {\n        vertical-align: middle;\n    }\n\n    .dataframe tbody tr th {\n        vertical-align: top;\n    }\n\n    .dataframe thead th {\n        text-align: right;\n    }\n</style>\n<table border=\"1\" class=\"dataframe\">\n  <thead>\n    <tr style=\"text-align: right;\">\n      <th></th>\n      <th>Date</th>\n      <th>From</th>\n      <th>To</th>\n      <th>Cc</th>\n      <th>Bcc</th>\n      <th>Subject</th>\n      <th>Body</th>\n    </tr>\n  </thead>\n  <tbody>\n    <tr>\n      <th>0</th>\n      <td>2000-08-07 02:31:00-07:00</td>\n      <td>buylow@houston.rr.com</td>\n      <td>daren.j.farmer@enron.com</td>\n      <td></td>\n      <td></td>\n      <td>Enron</td>\n      <td>??? KEEP UP THE GOOD WORK. ? WE AT HOME LOVE I...</td>\n    </tr>\n    <tr>\n      <th>1</th>\n      <td>2000-11-21 03:13:00-08:00</td>\n      <td>info@electionintegrity2000.com</td>\n      <td>ebass@enron.com</td>\n      <td></td>\n      <td></td>\n      <td>FW: Urgent -- Stop Al Gore from Election Theft</td>\n      <td>Dear Eric,  Keep up the good work!  Election I...</td>\n    </tr>\n    <tr>\n      <th>2</th>\n      <td>2000-12-27 02:28:00-08:00</td>\n      <td>steven.kean@enron.com</td>\n      <td>jeff.dasovich@enron.com</td>\n      <td></td>\n      <td></td>\n      <td>Re: DRAFT talking points for California PUC He...</td>\n      <td>This is very good work.  You make all the poin...</td>\n    </tr>\n    <tr>\n      <th>3</th>\n      <td>2000-12-05 06:23:00-08:00</td>\n      <td>jackie.henry@enron.com</td>\n      <td>kenneth.lay@enron.com, jeff.skilling@enron.com...</td>\n      <td></td>\n      <td></td>\n      <td>Thank You!</td>\n      <td>For years I followed the positive contribution...</td>\n    </tr>\n    <tr>\n      <th>4</th>\n      <td>2001-04-23 00:59:00-07:00</td>\n      <td>bill.iii@enron.com</td>\n      <td>portland.shift@enron.com</td>\n      <td></td>\n      <td></td>\n      <td>Issues from the floor.</td>\n      <td>Group, Two quick things...  First- from volume...</td>\n    </tr>\n  </tbody>\n</table>\n</div>"
     },
     "metadata": {},
     "execution_count": 256
    }
   ],
   "source": [
    "# Example of utilisation\n",
    "# test_good_work=wordFromCSV('sample.csv', 'good work')\n",
    "# wordFromDF(test_good_work, 'Eric').head()\n",
    "wordFromCSV('sample.csv', 'good work').head()"
   ]
  },
  {
   "cell_type": "code",
   "execution_count": null,
   "metadata": {},
   "outputs": [],
   "source": []
  }
 ]
}