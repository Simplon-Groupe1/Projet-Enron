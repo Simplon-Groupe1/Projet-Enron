{
 "metadata": {
  "language_info": {
   "codemirror_mode": {
    "name": "ipython",
    "version": 3
   },
   "file_extension": ".py",
   "mimetype": "text/x-python",
   "name": "python",
   "nbconvert_exporter": "python",
   "pygments_lexer": "ipython3",
   "version": "3.7.6-final"
  },
  "orig_nbformat": 2,
  "kernelspec": {
   "name": "python_defaultSpec_1598444846517",
   "display_name": "Python 3.7.6 64-bit ('utilisateur': virtualenv)"
  }
 },
 "nbformat": 4,
 "nbformat_minor": 2,
 "cells": [
  {
   "cell_type": "code",
   "execution_count": 6,
   "metadata": {},
   "outputs": [],
   "source": [
    "# import numpy\n",
    "import pandas as pd\n",
    "import csv"
   ]
  },
  {
   "cell_type": "code",
   "execution_count": 14,
   "metadata": {},
   "outputs": [
    {
     "output_type": "error",
     "ename": "SyntaxError",
     "evalue": "invalid syntax (<ipython-input-14-07e4a844f6ab>, line 14)",
     "traceback": [
      "\u001b[1;36m  File \u001b[1;32m\"<ipython-input-14-07e4a844f6ab>\"\u001b[1;36m, line \u001b[1;32m14\u001b[0m\n\u001b[1;33m    using (StreamReader reader = process.StandardOutput)\u001b[0m\n\u001b[1;37m                             ^\u001b[0m\n\u001b[1;31mSyntaxError\u001b[0m\u001b[1;31m:\u001b[0m invalid syntax\n"
     ]
    }
   ],
   "source": [
    "def select_word(word):\n",
    "    \"\"\"Create a dataframe of the mails containing the target word.\n",
    "    \n",
    "    Args:\n",
    "        word(str): target word to find.\n",
    "\n",
    "    Returns:\n",
    "        df:dataframe\n",
    "    \"\"\"\n",
    "    target=str(word)\n",
    "    data={}\n",
    "    temp={}\n",
    "    \n",
    "    # pd.read_csv('file.csv', header=None, nrows=5)\n",
    "    with open('sample.csv', 'r') as csvfile:\n",
    "        mails = csv.reader(csvfile, delimiter='|')\n",
    "        for message in mails:\n",
    "            body_message=message[6].reader.ReadLine() #définir le reader\n",
    "            if body_message.Contains(target): \n",
    "                temp=pd.DataFrame({\n",
    "                    \"Date\":[message[0]],\n",
    "                    \"From\":[message[1]],\n",
    "                    \"To\":[message[2]],\n",
    "                    \"Cc\":[message[3]],\n",
    "                    \"Bcc\":[message[4]],\n",
    "                    \"Subject\":[message[5]],\n",
    "                    \"Body\":[message[6]]})\n",
    "\n",
    "                data.append(temp, ignore_index = True) \n",
    "\n",
    "\n",
    "    # data = {'clef': ['valeur',  'valeur',  'valeur'],\n",
    "    #         'clef': ['valeur',  'valeur',  'valeur']}\n",
    "            \n",
    "    # df = pd.DataFrame(data,columns=['Date',  'From',  'To', 'Cc',  'Bcc',  'Subject', 'Body'])\n",
    "\n",
    "\n",
    "    return data #df"
   ]
  },
  {
   "cell_type": "code",
   "execution_count": 13,
   "metadata": {},
   "outputs": [
    {
     "output_type": "error",
     "ename": "AttributeError",
     "evalue": "'str' object has no attribute 'reader'",
     "traceback": [
      "\u001b[1;31m---------------------------------------------------------------------------\u001b[0m",
      "\u001b[1;31mAttributeError\u001b[0m                            Traceback (most recent call last)",
      "\u001b[1;32m<ipython-input-13-adaa3713defe>\u001b[0m in \u001b[0;36m<module>\u001b[1;34m\u001b[0m\n\u001b[1;32m----> 1\u001b[1;33m \u001b[0mprint\u001b[0m\u001b[1;33m(\u001b[0m\u001b[0mselect_word\u001b[0m\u001b[1;33m(\u001b[0m\u001b[1;34m'enron'\u001b[0m\u001b[1;33m)\u001b[0m\u001b[1;33m)\u001b[0m\u001b[1;33m\u001b[0m\u001b[1;33m\u001b[0m\u001b[0m\n\u001b[0m",
      "\u001b[1;32m<ipython-input-12-f0befd67afbe>\u001b[0m in \u001b[0;36mselect_word\u001b[1;34m(word)\u001b[0m\n\u001b[0;32m     16\u001b[0m         \u001b[0mmails\u001b[0m \u001b[1;33m=\u001b[0m \u001b[0mcsv\u001b[0m\u001b[1;33m.\u001b[0m\u001b[0mreader\u001b[0m\u001b[1;33m(\u001b[0m\u001b[0mcsvfile\u001b[0m\u001b[1;33m,\u001b[0m \u001b[0mdelimiter\u001b[0m\u001b[1;33m=\u001b[0m\u001b[1;34m'|'\u001b[0m\u001b[1;33m)\u001b[0m\u001b[1;33m\u001b[0m\u001b[1;33m\u001b[0m\u001b[0m\n\u001b[0;32m     17\u001b[0m         \u001b[1;32mfor\u001b[0m \u001b[0mmessage\u001b[0m \u001b[1;32min\u001b[0m \u001b[0mmails\u001b[0m\u001b[1;33m:\u001b[0m\u001b[1;33m\u001b[0m\u001b[1;33m\u001b[0m\u001b[0m\n\u001b[1;32m---> 18\u001b[1;33m             \u001b[0mbody_message\u001b[0m\u001b[1;33m=\u001b[0m\u001b[0mmessage\u001b[0m\u001b[1;33m[\u001b[0m\u001b[1;36m6\u001b[0m\u001b[1;33m]\u001b[0m\u001b[1;33m.\u001b[0m\u001b[0mreader\u001b[0m\u001b[1;33m.\u001b[0m\u001b[0mReadLine\u001b[0m\u001b[1;33m(\u001b[0m\u001b[1;33m)\u001b[0m\u001b[1;33m\u001b[0m\u001b[1;33m\u001b[0m\u001b[0m\n\u001b[0m\u001b[0;32m     19\u001b[0m             \u001b[1;32mif\u001b[0m \u001b[0mbody_message\u001b[0m\u001b[1;33m.\u001b[0m\u001b[0mContains\u001b[0m\u001b[1;33m(\u001b[0m\u001b[0mtarget\u001b[0m\u001b[1;33m)\u001b[0m\u001b[1;33m:\u001b[0m\u001b[1;33m\u001b[0m\u001b[1;33m\u001b[0m\u001b[0m\n\u001b[0;32m     20\u001b[0m                 temp=pd.DataFrame({\n",
      "\u001b[1;31mAttributeError\u001b[0m: 'str' object has no attribute 'reader'"
     ]
    }
   ],
   "source": [
    "print(select_word('enron'))"
   ]
  },
  {
   "cell_type": "code",
   "execution_count": null,
   "metadata": {},
   "outputs": [],
   "source": []
  }
 ]
}